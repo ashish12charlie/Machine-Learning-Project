{
 "cells": [
  {
   "cell_type": "markdown",
   "id": "410fc6cd",
   "metadata": {},
   "source": [
    "# knn model"
   ]
  },
  {
   "cell_type": "code",
   "execution_count": 236,
   "id": "f150f873",
   "metadata": {},
   "outputs": [],
   "source": [
    "import pandas as pd\n",
    "import numpy as np\n",
    "import matplotlib.pyplot as plt\n",
    "%matplotlib inline\n",
    "import warnings\n",
    "warnings.filterwarnings(\"ignore\")"
   ]
  },
  {
   "cell_type": "code",
   "execution_count": 237,
   "id": "c7fb82e6",
   "metadata": {},
   "outputs": [],
   "source": [
    "data=pd.read_csv(\"E:\\\\internshala data science course\\\\COURSE 5-ML\\\\Resources-NYC Taxi Trip Project\\\\nyc_taxi_trip_duration.csv\")"
   ]
  },
  {
   "cell_type": "code",
   "execution_count": 238,
   "id": "b8597f41",
   "metadata": {},
   "outputs": [
    {
     "data": {
      "text/plain": [
       "(729322, 11)"
      ]
     },
     "execution_count": 238,
     "metadata": {},
     "output_type": "execute_result"
    }
   ],
   "source": [
    "data.shape"
   ]
  },
  {
   "cell_type": "code",
   "execution_count": 239,
   "id": "c91721e8",
   "metadata": {
    "scrolled": false
   },
   "outputs": [
    {
     "data": {
      "text/html": [
       "<div>\n",
       "<style scoped>\n",
       "    .dataframe tbody tr th:only-of-type {\n",
       "        vertical-align: middle;\n",
       "    }\n",
       "\n",
       "    .dataframe tbody tr th {\n",
       "        vertical-align: top;\n",
       "    }\n",
       "\n",
       "    .dataframe thead th {\n",
       "        text-align: right;\n",
       "    }\n",
       "</style>\n",
       "<table border=\"1\" class=\"dataframe\">\n",
       "  <thead>\n",
       "    <tr style=\"text-align: right;\">\n",
       "      <th></th>\n",
       "      <th>id</th>\n",
       "      <th>vendor_id</th>\n",
       "      <th>pickup_datetime</th>\n",
       "      <th>dropoff_datetime</th>\n",
       "      <th>passenger_count</th>\n",
       "      <th>pickup_longitude</th>\n",
       "      <th>pickup_latitude</th>\n",
       "      <th>dropoff_longitude</th>\n",
       "      <th>dropoff_latitude</th>\n",
       "      <th>store_and_fwd_flag</th>\n",
       "      <th>trip_duration</th>\n",
       "    </tr>\n",
       "  </thead>\n",
       "  <tbody>\n",
       "    <tr>\n",
       "      <th>0</th>\n",
       "      <td>id1080784</td>\n",
       "      <td>2</td>\n",
       "      <td>2016-02-29 16:40:21</td>\n",
       "      <td>2016-02-29 16:47:01</td>\n",
       "      <td>1</td>\n",
       "      <td>-73.953918</td>\n",
       "      <td>40.778873</td>\n",
       "      <td>-73.963875</td>\n",
       "      <td>40.771164</td>\n",
       "      <td>N</td>\n",
       "      <td>400</td>\n",
       "    </tr>\n",
       "    <tr>\n",
       "      <th>1</th>\n",
       "      <td>id0889885</td>\n",
       "      <td>1</td>\n",
       "      <td>2016-03-11 23:35:37</td>\n",
       "      <td>2016-03-11 23:53:57</td>\n",
       "      <td>2</td>\n",
       "      <td>-73.988312</td>\n",
       "      <td>40.731743</td>\n",
       "      <td>-73.994751</td>\n",
       "      <td>40.694931</td>\n",
       "      <td>N</td>\n",
       "      <td>1100</td>\n",
       "    </tr>\n",
       "    <tr>\n",
       "      <th>2</th>\n",
       "      <td>id0857912</td>\n",
       "      <td>2</td>\n",
       "      <td>2016-02-21 17:59:33</td>\n",
       "      <td>2016-02-21 18:26:48</td>\n",
       "      <td>2</td>\n",
       "      <td>-73.997314</td>\n",
       "      <td>40.721458</td>\n",
       "      <td>-73.948029</td>\n",
       "      <td>40.774918</td>\n",
       "      <td>N</td>\n",
       "      <td>1635</td>\n",
       "    </tr>\n",
       "    <tr>\n",
       "      <th>3</th>\n",
       "      <td>id3744273</td>\n",
       "      <td>2</td>\n",
       "      <td>2016-01-05 09:44:31</td>\n",
       "      <td>2016-01-05 10:03:32</td>\n",
       "      <td>6</td>\n",
       "      <td>-73.961670</td>\n",
       "      <td>40.759720</td>\n",
       "      <td>-73.956779</td>\n",
       "      <td>40.780628</td>\n",
       "      <td>N</td>\n",
       "      <td>1141</td>\n",
       "    </tr>\n",
       "    <tr>\n",
       "      <th>4</th>\n",
       "      <td>id0232939</td>\n",
       "      <td>1</td>\n",
       "      <td>2016-02-17 06:42:23</td>\n",
       "      <td>2016-02-17 06:56:31</td>\n",
       "      <td>1</td>\n",
       "      <td>-74.017120</td>\n",
       "      <td>40.708469</td>\n",
       "      <td>-73.988182</td>\n",
       "      <td>40.740631</td>\n",
       "      <td>N</td>\n",
       "      <td>848</td>\n",
       "    </tr>\n",
       "  </tbody>\n",
       "</table>\n",
       "</div>"
      ],
      "text/plain": [
       "          id  vendor_id      pickup_datetime     dropoff_datetime  \\\n",
       "0  id1080784          2  2016-02-29 16:40:21  2016-02-29 16:47:01   \n",
       "1  id0889885          1  2016-03-11 23:35:37  2016-03-11 23:53:57   \n",
       "2  id0857912          2  2016-02-21 17:59:33  2016-02-21 18:26:48   \n",
       "3  id3744273          2  2016-01-05 09:44:31  2016-01-05 10:03:32   \n",
       "4  id0232939          1  2016-02-17 06:42:23  2016-02-17 06:56:31   \n",
       "\n",
       "   passenger_count  pickup_longitude  pickup_latitude  dropoff_longitude  \\\n",
       "0                1        -73.953918        40.778873         -73.963875   \n",
       "1                2        -73.988312        40.731743         -73.994751   \n",
       "2                2        -73.997314        40.721458         -73.948029   \n",
       "3                6        -73.961670        40.759720         -73.956779   \n",
       "4                1        -74.017120        40.708469         -73.988182   \n",
       "\n",
       "   dropoff_latitude store_and_fwd_flag  trip_duration  \n",
       "0         40.771164                  N            400  \n",
       "1         40.694931                  N           1100  \n",
       "2         40.774918                  N           1635  \n",
       "3         40.780628                  N           1141  \n",
       "4         40.740631                  N            848  "
      ]
     },
     "execution_count": 239,
     "metadata": {},
     "output_type": "execute_result"
    }
   ],
   "source": [
    "data.head()"
   ]
  },
  {
   "cell_type": "code",
   "execution_count": 240,
   "id": "f64d1fde",
   "metadata": {},
   "outputs": [],
   "source": [
    "# converting time format to timestamp and extracting time"
   ]
  },
  {
   "cell_type": "code",
   "execution_count": 241,
   "id": "2e28682d",
   "metadata": {},
   "outputs": [],
   "source": [
    "from datetime import datetime\n",
    "import time"
   ]
  },
  {
   "cell_type": "code",
   "execution_count": 242,
   "id": "5a1ab2c1",
   "metadata": {},
   "outputs": [
    {
     "data": {
      "text/html": [
       "<div>\n",
       "<style scoped>\n",
       "    .dataframe tbody tr th:only-of-type {\n",
       "        vertical-align: middle;\n",
       "    }\n",
       "\n",
       "    .dataframe tbody tr th {\n",
       "        vertical-align: top;\n",
       "    }\n",
       "\n",
       "    .dataframe thead th {\n",
       "        text-align: right;\n",
       "    }\n",
       "</style>\n",
       "<table border=\"1\" class=\"dataframe\">\n",
       "  <thead>\n",
       "    <tr style=\"text-align: right;\">\n",
       "      <th></th>\n",
       "      <th>id</th>\n",
       "      <th>vendor_id</th>\n",
       "      <th>pickup_datetime</th>\n",
       "      <th>dropoff_datetime</th>\n",
       "      <th>passenger_count</th>\n",
       "      <th>pickup_longitude</th>\n",
       "      <th>pickup_latitude</th>\n",
       "      <th>dropoff_longitude</th>\n",
       "      <th>dropoff_latitude</th>\n",
       "      <th>store_and_fwd_flag</th>\n",
       "      <th>trip_duration</th>\n",
       "      <th>pickup_time</th>\n",
       "      <th>dropoff_time</th>\n",
       "    </tr>\n",
       "  </thead>\n",
       "  <tbody>\n",
       "    <tr>\n",
       "      <th>0</th>\n",
       "      <td>id1080784</td>\n",
       "      <td>2</td>\n",
       "      <td>2016-02-29 16:40:21</td>\n",
       "      <td>2016-02-29 16:40:21</td>\n",
       "      <td>1</td>\n",
       "      <td>-73.953918</td>\n",
       "      <td>40.778873</td>\n",
       "      <td>-73.963875</td>\n",
       "      <td>40.771164</td>\n",
       "      <td>N</td>\n",
       "      <td>400</td>\n",
       "      <td>60021</td>\n",
       "      <td>60021</td>\n",
       "    </tr>\n",
       "    <tr>\n",
       "      <th>1</th>\n",
       "      <td>id0889885</td>\n",
       "      <td>1</td>\n",
       "      <td>2016-03-11 23:35:37</td>\n",
       "      <td>2016-03-11 23:35:37</td>\n",
       "      <td>2</td>\n",
       "      <td>-73.988312</td>\n",
       "      <td>40.731743</td>\n",
       "      <td>-73.994751</td>\n",
       "      <td>40.694931</td>\n",
       "      <td>N</td>\n",
       "      <td>1100</td>\n",
       "      <td>84937</td>\n",
       "      <td>84937</td>\n",
       "    </tr>\n",
       "    <tr>\n",
       "      <th>2</th>\n",
       "      <td>id0857912</td>\n",
       "      <td>2</td>\n",
       "      <td>2016-02-21 17:59:33</td>\n",
       "      <td>2016-02-21 17:59:33</td>\n",
       "      <td>2</td>\n",
       "      <td>-73.997314</td>\n",
       "      <td>40.721458</td>\n",
       "      <td>-73.948029</td>\n",
       "      <td>40.774918</td>\n",
       "      <td>N</td>\n",
       "      <td>1635</td>\n",
       "      <td>64773</td>\n",
       "      <td>64773</td>\n",
       "    </tr>\n",
       "    <tr>\n",
       "      <th>3</th>\n",
       "      <td>id3744273</td>\n",
       "      <td>2</td>\n",
       "      <td>2016-01-05 09:44:31</td>\n",
       "      <td>2016-01-05 09:44:31</td>\n",
       "      <td>6</td>\n",
       "      <td>-73.961670</td>\n",
       "      <td>40.759720</td>\n",
       "      <td>-73.956779</td>\n",
       "      <td>40.780628</td>\n",
       "      <td>N</td>\n",
       "      <td>1141</td>\n",
       "      <td>35071</td>\n",
       "      <td>35071</td>\n",
       "    </tr>\n",
       "    <tr>\n",
       "      <th>4</th>\n",
       "      <td>id0232939</td>\n",
       "      <td>1</td>\n",
       "      <td>2016-02-17 06:42:23</td>\n",
       "      <td>2016-02-17 06:42:23</td>\n",
       "      <td>1</td>\n",
       "      <td>-74.017120</td>\n",
       "      <td>40.708469</td>\n",
       "      <td>-73.988182</td>\n",
       "      <td>40.740631</td>\n",
       "      <td>N</td>\n",
       "      <td>848</td>\n",
       "      <td>24143</td>\n",
       "      <td>24143</td>\n",
       "    </tr>\n",
       "  </tbody>\n",
       "</table>\n",
       "</div>"
      ],
      "text/plain": [
       "          id  vendor_id      pickup_datetime     dropoff_datetime  \\\n",
       "0  id1080784          2  2016-02-29 16:40:21  2016-02-29 16:40:21   \n",
       "1  id0889885          1  2016-03-11 23:35:37  2016-03-11 23:35:37   \n",
       "2  id0857912          2  2016-02-21 17:59:33  2016-02-21 17:59:33   \n",
       "3  id3744273          2  2016-01-05 09:44:31  2016-01-05 09:44:31   \n",
       "4  id0232939          1  2016-02-17 06:42:23  2016-02-17 06:42:23   \n",
       "\n",
       "   passenger_count  pickup_longitude  pickup_latitude  dropoff_longitude  \\\n",
       "0                1        -73.953918        40.778873         -73.963875   \n",
       "1                2        -73.988312        40.731743         -73.994751   \n",
       "2                2        -73.997314        40.721458         -73.948029   \n",
       "3                6        -73.961670        40.759720         -73.956779   \n",
       "4                1        -74.017120        40.708469         -73.988182   \n",
       "\n",
       "   dropoff_latitude store_and_fwd_flag  trip_duration  pickup_time  \\\n",
       "0         40.771164                  N            400        60021   \n",
       "1         40.694931                  N           1100        84937   \n",
       "2         40.774918                  N           1635        64773   \n",
       "3         40.780628                  N           1141        35071   \n",
       "4         40.740631                  N            848        24143   \n",
       "\n",
       "   dropoff_time  \n",
       "0         60021  \n",
       "1         84937  \n",
       "2         64773  \n",
       "3         35071  \n",
       "4         24143  "
      ]
     },
     "execution_count": 242,
     "metadata": {},
     "output_type": "execute_result"
    }
   ],
   "source": [
    "data[\"pickup_datetime\"]=data[\"pickup_datetime\"].astype(str)\n",
    "data[\"dropoff_datetime\"]=data[\"pickup_datetime\"].astype(str)\n",
    "data[\"pickup_time\"]=data[\"pickup_datetime\"].apply(lambda x: datetime.strptime(x,\"%Y-%m-%d %H:%M:%S\"))\n",
    "data[\"dropoff_time\"]=data[\"pickup_datetime\"].apply(lambda x: datetime.strptime(x,\"%Y-%m-%d %H:%M:%S\"))\n",
    "data[\"pickup_time\"]=pd.to_datetime(data[\"pickup_time\"],format=\"%Y-%m-%d %H:%M:%S\")\n",
    "data[\"dropoff_time\"]=pd.to_datetime(data[\"dropoff_time\"],format=\"%Y-%m-%d %H:%M:%S\")\n",
    "data[\"pickup_time\"]=data[\"pickup_time\"].apply(lambda x: x.hour*3600+x.minute*60+x.second)\n",
    "data[\"dropoff_time\"]=data[\"dropoff_time\"].apply(lambda x: x.hour*3600+x.minute*60+x.second)\n",
    "data.head()"
   ]
  },
  {
   "cell_type": "code",
   "execution_count": 243,
   "id": "b771b530",
   "metadata": {},
   "outputs": [],
   "source": [
    "# converting vendor_id and passenger_count to categorical type"
   ]
  },
  {
   "cell_type": "code",
   "execution_count": 244,
   "id": "5b8f7759",
   "metadata": {},
   "outputs": [],
   "source": [
    "data[\"vendor_id\"]=data.vendor_id.astype(\"category\")\n",
    "data[\"passenger_count\"]=data.passenger_count.astype(\"category\")"
   ]
  },
  {
   "cell_type": "code",
   "execution_count": 245,
   "id": "718ddb33",
   "metadata": {},
   "outputs": [
    {
     "data": {
      "text/html": [
       "<div>\n",
       "<style scoped>\n",
       "    .dataframe tbody tr th:only-of-type {\n",
       "        vertical-align: middle;\n",
       "    }\n",
       "\n",
       "    .dataframe tbody tr th {\n",
       "        vertical-align: top;\n",
       "    }\n",
       "\n",
       "    .dataframe thead th {\n",
       "        text-align: right;\n",
       "    }\n",
       "</style>\n",
       "<table border=\"1\" class=\"dataframe\">\n",
       "  <thead>\n",
       "    <tr style=\"text-align: right;\">\n",
       "      <th></th>\n",
       "      <th>id</th>\n",
       "      <th>vendor_id</th>\n",
       "      <th>pickup_datetime</th>\n",
       "      <th>dropoff_datetime</th>\n",
       "      <th>passenger_count</th>\n",
       "      <th>pickup_longitude</th>\n",
       "      <th>pickup_latitude</th>\n",
       "      <th>dropoff_longitude</th>\n",
       "      <th>dropoff_latitude</th>\n",
       "      <th>store_and_fwd_flag</th>\n",
       "      <th>trip_duration</th>\n",
       "      <th>pickup_time</th>\n",
       "      <th>dropoff_time</th>\n",
       "    </tr>\n",
       "  </thead>\n",
       "  <tbody>\n",
       "    <tr>\n",
       "      <th>638319</th>\n",
       "      <td>id1393732</td>\n",
       "      <td>1</td>\n",
       "      <td>2016-01-21 10:58:14</td>\n",
       "      <td>2016-01-21 10:58:14</td>\n",
       "      <td>1</td>\n",
       "      <td>-73.951523</td>\n",
       "      <td>40.778717</td>\n",
       "      <td>-73.957375</td>\n",
       "      <td>40.785355</td>\n",
       "      <td>N</td>\n",
       "      <td>259</td>\n",
       "      <td>39494</td>\n",
       "      <td>39494</td>\n",
       "    </tr>\n",
       "    <tr>\n",
       "      <th>663396</th>\n",
       "      <td>id0590680</td>\n",
       "      <td>1</td>\n",
       "      <td>2016-05-01 01:27:54</td>\n",
       "      <td>2016-05-01 01:27:54</td>\n",
       "      <td>2</td>\n",
       "      <td>-74.008018</td>\n",
       "      <td>40.740147</td>\n",
       "      <td>-73.981506</td>\n",
       "      <td>40.737244</td>\n",
       "      <td>N</td>\n",
       "      <td>607</td>\n",
       "      <td>5274</td>\n",
       "      <td>5274</td>\n",
       "    </tr>\n",
       "    <tr>\n",
       "      <th>109992</th>\n",
       "      <td>id2104901</td>\n",
       "      <td>1</td>\n",
       "      <td>2016-06-28 18:44:38</td>\n",
       "      <td>2016-06-28 18:44:38</td>\n",
       "      <td>1</td>\n",
       "      <td>-73.990791</td>\n",
       "      <td>40.730423</td>\n",
       "      <td>-74.003609</td>\n",
       "      <td>40.730068</td>\n",
       "      <td>N</td>\n",
       "      <td>509</td>\n",
       "      <td>67478</td>\n",
       "      <td>67478</td>\n",
       "    </tr>\n",
       "    <tr>\n",
       "      <th>619160</th>\n",
       "      <td>id3850356</td>\n",
       "      <td>1</td>\n",
       "      <td>2016-04-17 20:25:21</td>\n",
       "      <td>2016-04-17 20:25:21</td>\n",
       "      <td>1</td>\n",
       "      <td>-73.971542</td>\n",
       "      <td>40.794735</td>\n",
       "      <td>-73.961525</td>\n",
       "      <td>40.796940</td>\n",
       "      <td>N</td>\n",
       "      <td>235</td>\n",
       "      <td>73521</td>\n",
       "      <td>73521</td>\n",
       "    </tr>\n",
       "    <tr>\n",
       "      <th>509437</th>\n",
       "      <td>id0115030</td>\n",
       "      <td>2</td>\n",
       "      <td>2016-03-20 17:35:37</td>\n",
       "      <td>2016-03-20 17:35:37</td>\n",
       "      <td>1</td>\n",
       "      <td>-73.982185</td>\n",
       "      <td>40.751049</td>\n",
       "      <td>-73.974541</td>\n",
       "      <td>40.759056</td>\n",
       "      <td>N</td>\n",
       "      <td>301</td>\n",
       "      <td>63337</td>\n",
       "      <td>63337</td>\n",
       "    </tr>\n",
       "  </tbody>\n",
       "</table>\n",
       "</div>"
      ],
      "text/plain": [
       "               id vendor_id      pickup_datetime     dropoff_datetime  \\\n",
       "638319  id1393732         1  2016-01-21 10:58:14  2016-01-21 10:58:14   \n",
       "663396  id0590680         1  2016-05-01 01:27:54  2016-05-01 01:27:54   \n",
       "109992  id2104901         1  2016-06-28 18:44:38  2016-06-28 18:44:38   \n",
       "619160  id3850356         1  2016-04-17 20:25:21  2016-04-17 20:25:21   \n",
       "509437  id0115030         2  2016-03-20 17:35:37  2016-03-20 17:35:37   \n",
       "\n",
       "       passenger_count  pickup_longitude  pickup_latitude  dropoff_longitude  \\\n",
       "638319               1        -73.951523        40.778717         -73.957375   \n",
       "663396               2        -74.008018        40.740147         -73.981506   \n",
       "109992               1        -73.990791        40.730423         -74.003609   \n",
       "619160               1        -73.971542        40.794735         -73.961525   \n",
       "509437               1        -73.982185        40.751049         -73.974541   \n",
       "\n",
       "        dropoff_latitude store_and_fwd_flag  trip_duration  pickup_time  \\\n",
       "638319         40.785355                  N            259        39494   \n",
       "663396         40.737244                  N            607         5274   \n",
       "109992         40.730068                  N            509        67478   \n",
       "619160         40.796940                  N            235        73521   \n",
       "509437         40.759056                  N            301        63337   \n",
       "\n",
       "        dropoff_time  \n",
       "638319         39494  \n",
       "663396          5274  \n",
       "109992         67478  \n",
       "619160         73521  \n",
       "509437         63337  "
      ]
     },
     "execution_count": 245,
     "metadata": {},
     "output_type": "execute_result"
    }
   ],
   "source": [
    "# taking a sample of 10000 records\n",
    "df=data.sample(10000)\n",
    "df.head()"
   ]
  },
  {
   "cell_type": "markdown",
   "id": "05d73641",
   "metadata": {},
   "source": [
    "### Segregating variables: Independent and Dependent Variables"
   ]
  },
  {
   "cell_type": "code",
   "execution_count": 246,
   "id": "aad26ace",
   "metadata": {},
   "outputs": [
    {
     "data": {
      "text/plain": [
       "((10000, 7), (10000,))"
      ]
     },
     "execution_count": 246,
     "metadata": {},
     "output_type": "execute_result"
    }
   ],
   "source": [
    "x = df.drop([\"trip_duration\",\"pickup_datetime\",\"dropoff_datetime\",\"id\",\"store_and_fwd_flag\",\"dropoff_time\"],axis=1)\n",
    "y = df['trip_duration']\n",
    "x.shape, y.shape"
   ]
  },
  {
   "cell_type": "code",
   "execution_count": 247,
   "id": "8602f1a3",
   "metadata": {},
   "outputs": [
    {
     "data": {
      "text/html": [
       "<div>\n",
       "<style scoped>\n",
       "    .dataframe tbody tr th:only-of-type {\n",
       "        vertical-align: middle;\n",
       "    }\n",
       "\n",
       "    .dataframe tbody tr th {\n",
       "        vertical-align: top;\n",
       "    }\n",
       "\n",
       "    .dataframe thead th {\n",
       "        text-align: right;\n",
       "    }\n",
       "</style>\n",
       "<table border=\"1\" class=\"dataframe\">\n",
       "  <thead>\n",
       "    <tr style=\"text-align: right;\">\n",
       "      <th></th>\n",
       "      <th>vendor_id</th>\n",
       "      <th>passenger_count</th>\n",
       "      <th>pickup_longitude</th>\n",
       "      <th>pickup_latitude</th>\n",
       "      <th>dropoff_longitude</th>\n",
       "      <th>dropoff_latitude</th>\n",
       "      <th>pickup_time</th>\n",
       "    </tr>\n",
       "  </thead>\n",
       "  <tbody>\n",
       "    <tr>\n",
       "      <th>638319</th>\n",
       "      <td>1</td>\n",
       "      <td>1</td>\n",
       "      <td>-73.951523</td>\n",
       "      <td>40.778717</td>\n",
       "      <td>-73.957375</td>\n",
       "      <td>40.785355</td>\n",
       "      <td>39494</td>\n",
       "    </tr>\n",
       "    <tr>\n",
       "      <th>663396</th>\n",
       "      <td>1</td>\n",
       "      <td>2</td>\n",
       "      <td>-74.008018</td>\n",
       "      <td>40.740147</td>\n",
       "      <td>-73.981506</td>\n",
       "      <td>40.737244</td>\n",
       "      <td>5274</td>\n",
       "    </tr>\n",
       "    <tr>\n",
       "      <th>109992</th>\n",
       "      <td>1</td>\n",
       "      <td>1</td>\n",
       "      <td>-73.990791</td>\n",
       "      <td>40.730423</td>\n",
       "      <td>-74.003609</td>\n",
       "      <td>40.730068</td>\n",
       "      <td>67478</td>\n",
       "    </tr>\n",
       "    <tr>\n",
       "      <th>619160</th>\n",
       "      <td>1</td>\n",
       "      <td>1</td>\n",
       "      <td>-73.971542</td>\n",
       "      <td>40.794735</td>\n",
       "      <td>-73.961525</td>\n",
       "      <td>40.796940</td>\n",
       "      <td>73521</td>\n",
       "    </tr>\n",
       "    <tr>\n",
       "      <th>509437</th>\n",
       "      <td>2</td>\n",
       "      <td>1</td>\n",
       "      <td>-73.982185</td>\n",
       "      <td>40.751049</td>\n",
       "      <td>-73.974541</td>\n",
       "      <td>40.759056</td>\n",
       "      <td>63337</td>\n",
       "    </tr>\n",
       "  </tbody>\n",
       "</table>\n",
       "</div>"
      ],
      "text/plain": [
       "       vendor_id passenger_count  pickup_longitude  pickup_latitude  \\\n",
       "638319         1               1        -73.951523        40.778717   \n",
       "663396         1               2        -74.008018        40.740147   \n",
       "109992         1               1        -73.990791        40.730423   \n",
       "619160         1               1        -73.971542        40.794735   \n",
       "509437         2               1        -73.982185        40.751049   \n",
       "\n",
       "        dropoff_longitude  dropoff_latitude  pickup_time  \n",
       "638319         -73.957375         40.785355        39494  \n",
       "663396         -73.981506         40.737244         5274  \n",
       "109992         -74.003609         40.730068        67478  \n",
       "619160         -73.961525         40.796940        73521  \n",
       "509437         -73.974541         40.759056        63337  "
      ]
     },
     "execution_count": 247,
     "metadata": {},
     "output_type": "execute_result"
    }
   ],
   "source": [
    "x.head()"
   ]
  },
  {
   "cell_type": "code",
   "execution_count": 248,
   "id": "7adfe5a8",
   "metadata": {},
   "outputs": [
    {
     "data": {
      "text/html": [
       "<div>\n",
       "<style scoped>\n",
       "    .dataframe tbody tr th:only-of-type {\n",
       "        vertical-align: middle;\n",
       "    }\n",
       "\n",
       "    .dataframe tbody tr th {\n",
       "        vertical-align: top;\n",
       "    }\n",
       "\n",
       "    .dataframe thead th {\n",
       "        text-align: right;\n",
       "    }\n",
       "</style>\n",
       "<table border=\"1\" class=\"dataframe\">\n",
       "  <thead>\n",
       "    <tr style=\"text-align: right;\">\n",
       "      <th></th>\n",
       "      <th>pickup_longitude</th>\n",
       "      <th>pickup_latitude</th>\n",
       "      <th>dropoff_longitude</th>\n",
       "      <th>dropoff_latitude</th>\n",
       "      <th>pickup_time</th>\n",
       "      <th>vendor_id_1</th>\n",
       "      <th>vendor_id_2</th>\n",
       "      <th>passenger_count_0</th>\n",
       "      <th>passenger_count_1</th>\n",
       "      <th>passenger_count_2</th>\n",
       "      <th>passenger_count_3</th>\n",
       "      <th>passenger_count_4</th>\n",
       "      <th>passenger_count_5</th>\n",
       "      <th>passenger_count_6</th>\n",
       "      <th>passenger_count_7</th>\n",
       "      <th>passenger_count_9</th>\n",
       "    </tr>\n",
       "  </thead>\n",
       "  <tbody>\n",
       "    <tr>\n",
       "      <th>638319</th>\n",
       "      <td>-73.951523</td>\n",
       "      <td>40.778717</td>\n",
       "      <td>-73.957375</td>\n",
       "      <td>40.785355</td>\n",
       "      <td>39494</td>\n",
       "      <td>1</td>\n",
       "      <td>0</td>\n",
       "      <td>0</td>\n",
       "      <td>1</td>\n",
       "      <td>0</td>\n",
       "      <td>0</td>\n",
       "      <td>0</td>\n",
       "      <td>0</td>\n",
       "      <td>0</td>\n",
       "      <td>0</td>\n",
       "      <td>0</td>\n",
       "    </tr>\n",
       "    <tr>\n",
       "      <th>663396</th>\n",
       "      <td>-74.008018</td>\n",
       "      <td>40.740147</td>\n",
       "      <td>-73.981506</td>\n",
       "      <td>40.737244</td>\n",
       "      <td>5274</td>\n",
       "      <td>1</td>\n",
       "      <td>0</td>\n",
       "      <td>0</td>\n",
       "      <td>0</td>\n",
       "      <td>1</td>\n",
       "      <td>0</td>\n",
       "      <td>0</td>\n",
       "      <td>0</td>\n",
       "      <td>0</td>\n",
       "      <td>0</td>\n",
       "      <td>0</td>\n",
       "    </tr>\n",
       "    <tr>\n",
       "      <th>109992</th>\n",
       "      <td>-73.990791</td>\n",
       "      <td>40.730423</td>\n",
       "      <td>-74.003609</td>\n",
       "      <td>40.730068</td>\n",
       "      <td>67478</td>\n",
       "      <td>1</td>\n",
       "      <td>0</td>\n",
       "      <td>0</td>\n",
       "      <td>1</td>\n",
       "      <td>0</td>\n",
       "      <td>0</td>\n",
       "      <td>0</td>\n",
       "      <td>0</td>\n",
       "      <td>0</td>\n",
       "      <td>0</td>\n",
       "      <td>0</td>\n",
       "    </tr>\n",
       "    <tr>\n",
       "      <th>619160</th>\n",
       "      <td>-73.971542</td>\n",
       "      <td>40.794735</td>\n",
       "      <td>-73.961525</td>\n",
       "      <td>40.796940</td>\n",
       "      <td>73521</td>\n",
       "      <td>1</td>\n",
       "      <td>0</td>\n",
       "      <td>0</td>\n",
       "      <td>1</td>\n",
       "      <td>0</td>\n",
       "      <td>0</td>\n",
       "      <td>0</td>\n",
       "      <td>0</td>\n",
       "      <td>0</td>\n",
       "      <td>0</td>\n",
       "      <td>0</td>\n",
       "    </tr>\n",
       "    <tr>\n",
       "      <th>509437</th>\n",
       "      <td>-73.982185</td>\n",
       "      <td>40.751049</td>\n",
       "      <td>-73.974541</td>\n",
       "      <td>40.759056</td>\n",
       "      <td>63337</td>\n",
       "      <td>0</td>\n",
       "      <td>1</td>\n",
       "      <td>0</td>\n",
       "      <td>1</td>\n",
       "      <td>0</td>\n",
       "      <td>0</td>\n",
       "      <td>0</td>\n",
       "      <td>0</td>\n",
       "      <td>0</td>\n",
       "      <td>0</td>\n",
       "      <td>0</td>\n",
       "    </tr>\n",
       "  </tbody>\n",
       "</table>\n",
       "</div>"
      ],
      "text/plain": [
       "        pickup_longitude  pickup_latitude  dropoff_longitude  \\\n",
       "638319        -73.951523        40.778717         -73.957375   \n",
       "663396        -74.008018        40.740147         -73.981506   \n",
       "109992        -73.990791        40.730423         -74.003609   \n",
       "619160        -73.971542        40.794735         -73.961525   \n",
       "509437        -73.982185        40.751049         -73.974541   \n",
       "\n",
       "        dropoff_latitude  pickup_time  vendor_id_1  vendor_id_2  \\\n",
       "638319         40.785355        39494            1            0   \n",
       "663396         40.737244         5274            1            0   \n",
       "109992         40.730068        67478            1            0   \n",
       "619160         40.796940        73521            1            0   \n",
       "509437         40.759056        63337            0            1   \n",
       "\n",
       "        passenger_count_0  passenger_count_1  passenger_count_2  \\\n",
       "638319                  0                  1                  0   \n",
       "663396                  0                  0                  1   \n",
       "109992                  0                  1                  0   \n",
       "619160                  0                  1                  0   \n",
       "509437                  0                  1                  0   \n",
       "\n",
       "        passenger_count_3  passenger_count_4  passenger_count_5  \\\n",
       "638319                  0                  0                  0   \n",
       "663396                  0                  0                  0   \n",
       "109992                  0                  0                  0   \n",
       "619160                  0                  0                  0   \n",
       "509437                  0                  0                  0   \n",
       "\n",
       "        passenger_count_6  passenger_count_7  passenger_count_9  \n",
       "638319                  0                  0                  0  \n",
       "663396                  0                  0                  0  \n",
       "109992                  0                  0                  0  \n",
       "619160                  0                  0                  0  \n",
       "509437                  0                  0                  0  "
      ]
     },
     "execution_count": 248,
     "metadata": {},
     "output_type": "execute_result"
    }
   ],
   "source": [
    "x=pd.get_dummies(x)\n",
    "x.head()"
   ]
  },
  {
   "cell_type": "markdown",
   "id": "8fc55818",
   "metadata": {},
   "source": [
    "### Scaling the data (Using MinMax Scaler)"
   ]
  },
  {
   "cell_type": "code",
   "execution_count": 249,
   "id": "6516a2f1",
   "metadata": {},
   "outputs": [],
   "source": [
    "from sklearn.preprocessing import MinMaxScaler\n",
    "scaler = MinMaxScaler()\n",
    "x_scaled = scaler.fit_transform(x)"
   ]
  },
  {
   "cell_type": "code",
   "execution_count": 250,
   "id": "ad1d5acb",
   "metadata": {},
   "outputs": [],
   "source": [
    "x = pd.DataFrame(x_scaled, columns = x.columns)"
   ]
  },
  {
   "cell_type": "code",
   "execution_count": 251,
   "id": "60950b7d",
   "metadata": {},
   "outputs": [
    {
     "data": {
      "text/html": [
       "<div>\n",
       "<style scoped>\n",
       "    .dataframe tbody tr th:only-of-type {\n",
       "        vertical-align: middle;\n",
       "    }\n",
       "\n",
       "    .dataframe tbody tr th {\n",
       "        vertical-align: top;\n",
       "    }\n",
       "\n",
       "    .dataframe thead th {\n",
       "        text-align: right;\n",
       "    }\n",
       "</style>\n",
       "<table border=\"1\" class=\"dataframe\">\n",
       "  <thead>\n",
       "    <tr style=\"text-align: right;\">\n",
       "      <th></th>\n",
       "      <th>pickup_longitude</th>\n",
       "      <th>pickup_latitude</th>\n",
       "      <th>dropoff_longitude</th>\n",
       "      <th>dropoff_latitude</th>\n",
       "      <th>pickup_time</th>\n",
       "      <th>vendor_id_1</th>\n",
       "      <th>vendor_id_2</th>\n",
       "      <th>passenger_count_0</th>\n",
       "      <th>passenger_count_1</th>\n",
       "      <th>passenger_count_2</th>\n",
       "      <th>passenger_count_3</th>\n",
       "      <th>passenger_count_4</th>\n",
       "      <th>passenger_count_5</th>\n",
       "      <th>passenger_count_6</th>\n",
       "      <th>passenger_count_7</th>\n",
       "      <th>passenger_count_9</th>\n",
       "    </tr>\n",
       "  </thead>\n",
       "  <tbody>\n",
       "    <tr>\n",
       "      <th>0</th>\n",
       "      <td>0.302400</td>\n",
       "      <td>0.633346</td>\n",
       "      <td>0.398040</td>\n",
       "      <td>0.531000</td>\n",
       "      <td>0.457049</td>\n",
       "      <td>1.0</td>\n",
       "      <td>0.0</td>\n",
       "      <td>0.0</td>\n",
       "      <td>1.0</td>\n",
       "      <td>0.0</td>\n",
       "      <td>0.0</td>\n",
       "      <td>0.0</td>\n",
       "      <td>0.0</td>\n",
       "      <td>0.0</td>\n",
       "      <td>0.0</td>\n",
       "      <td>0.0</td>\n",
       "    </tr>\n",
       "    <tr>\n",
       "      <th>1</th>\n",
       "      <td>0.227067</td>\n",
       "      <td>0.512561</td>\n",
       "      <td>0.378720</td>\n",
       "      <td>0.447414</td>\n",
       "      <td>0.060934</td>\n",
       "      <td>1.0</td>\n",
       "      <td>0.0</td>\n",
       "      <td>0.0</td>\n",
       "      <td>0.0</td>\n",
       "      <td>1.0</td>\n",
       "      <td>0.0</td>\n",
       "      <td>0.0</td>\n",
       "      <td>0.0</td>\n",
       "      <td>0.0</td>\n",
       "      <td>0.0</td>\n",
       "      <td>0.0</td>\n",
       "    </tr>\n",
       "    <tr>\n",
       "      <th>2</th>\n",
       "      <td>0.250038</td>\n",
       "      <td>0.482111</td>\n",
       "      <td>0.361024</td>\n",
       "      <td>0.434948</td>\n",
       "      <td>0.780979</td>\n",
       "      <td>1.0</td>\n",
       "      <td>0.0</td>\n",
       "      <td>0.0</td>\n",
       "      <td>1.0</td>\n",
       "      <td>0.0</td>\n",
       "      <td>0.0</td>\n",
       "      <td>0.0</td>\n",
       "      <td>0.0</td>\n",
       "      <td>0.0</td>\n",
       "      <td>0.0</td>\n",
       "      <td>0.0</td>\n",
       "    </tr>\n",
       "    <tr>\n",
       "      <th>3</th>\n",
       "      <td>0.275705</td>\n",
       "      <td>0.683506</td>\n",
       "      <td>0.394718</td>\n",
       "      <td>0.551128</td>\n",
       "      <td>0.850930</td>\n",
       "      <td>1.0</td>\n",
       "      <td>0.0</td>\n",
       "      <td>0.0</td>\n",
       "      <td>1.0</td>\n",
       "      <td>0.0</td>\n",
       "      <td>0.0</td>\n",
       "      <td>0.0</td>\n",
       "      <td>0.0</td>\n",
       "      <td>0.0</td>\n",
       "      <td>0.0</td>\n",
       "      <td>0.0</td>\n",
       "    </tr>\n",
       "    <tr>\n",
       "      <th>4</th>\n",
       "      <td>0.261514</td>\n",
       "      <td>0.546702</td>\n",
       "      <td>0.384297</td>\n",
       "      <td>0.485310</td>\n",
       "      <td>0.733045</td>\n",
       "      <td>0.0</td>\n",
       "      <td>1.0</td>\n",
       "      <td>0.0</td>\n",
       "      <td>1.0</td>\n",
       "      <td>0.0</td>\n",
       "      <td>0.0</td>\n",
       "      <td>0.0</td>\n",
       "      <td>0.0</td>\n",
       "      <td>0.0</td>\n",
       "      <td>0.0</td>\n",
       "      <td>0.0</td>\n",
       "    </tr>\n",
       "  </tbody>\n",
       "</table>\n",
       "</div>"
      ],
      "text/plain": [
       "   pickup_longitude  pickup_latitude  dropoff_longitude  dropoff_latitude  \\\n",
       "0          0.302400         0.633346           0.398040          0.531000   \n",
       "1          0.227067         0.512561           0.378720          0.447414   \n",
       "2          0.250038         0.482111           0.361024          0.434948   \n",
       "3          0.275705         0.683506           0.394718          0.551128   \n",
       "4          0.261514         0.546702           0.384297          0.485310   \n",
       "\n",
       "   pickup_time  vendor_id_1  vendor_id_2  passenger_count_0  \\\n",
       "0     0.457049          1.0          0.0                0.0   \n",
       "1     0.060934          1.0          0.0                0.0   \n",
       "2     0.780979          1.0          0.0                0.0   \n",
       "3     0.850930          1.0          0.0                0.0   \n",
       "4     0.733045          0.0          1.0                0.0   \n",
       "\n",
       "   passenger_count_1  passenger_count_2  passenger_count_3  passenger_count_4  \\\n",
       "0                1.0                0.0                0.0                0.0   \n",
       "1                0.0                1.0                0.0                0.0   \n",
       "2                1.0                0.0                0.0                0.0   \n",
       "3                1.0                0.0                0.0                0.0   \n",
       "4                1.0                0.0                0.0                0.0   \n",
       "\n",
       "   passenger_count_5  passenger_count_6  passenger_count_7  passenger_count_9  \n",
       "0                0.0                0.0                0.0                0.0  \n",
       "1                0.0                0.0                0.0                0.0  \n",
       "2                0.0                0.0                0.0                0.0  \n",
       "3                0.0                0.0                0.0                0.0  \n",
       "4                0.0                0.0                0.0                0.0  "
      ]
     },
     "execution_count": 251,
     "metadata": {},
     "output_type": "execute_result"
    }
   ],
   "source": [
    "x.head()"
   ]
  },
  {
   "cell_type": "code",
   "execution_count": 252,
   "id": "a6432ba4",
   "metadata": {},
   "outputs": [],
   "source": [
    "from sklearn.model_selection import train_test_split\n",
    "train_x,test_x,train_y,test_y = train_test_split(x_scaled,y, random_state = 56)"
   ]
  },
  {
   "cell_type": "code",
   "execution_count": 253,
   "id": "24cdb067",
   "metadata": {},
   "outputs": [],
   "source": [
    "#importing KNN regressor and metric mse\n",
    "\n",
    "from sklearn.neighbors import KNeighborsRegressor as KNN\n",
    "from sklearn.metrics import mean_squared_error as mse"
   ]
  },
  {
   "cell_type": "code",
   "execution_count": 254,
   "id": "6ca37463",
   "metadata": {},
   "outputs": [
    {
     "name": "stdout",
     "output_type": "stream",
     "text": [
      "Test RMSE :  3645.7805901595343\n"
     ]
    }
   ],
   "source": [
    "# Creating instance of KNN\n",
    "reg = KNN(n_neighbors = 5)\n",
    "\n",
    "# Fitting the model\n",
    "reg.fit(train_x, train_y)\n",
    "\n",
    "# Predicting over the Train Set and calculating MSE\n",
    "test_predict = reg.predict(test_x)\n",
    "k = mse(test_predict, test_y,squared=False)\n",
    "print(\"Test RMSE : \", k )"
   ]
  },
  {
   "cell_type": "markdown",
   "id": "cdaabd87",
   "metadata": {},
   "source": [
    "# fingding the best value of k using elbow method"
   ]
  },
  {
   "cell_type": "code",
   "execution_count": 255,
   "id": "e2c8fb08",
   "metadata": {},
   "outputs": [],
   "source": [
    "def rmse_K(k):\n",
    "    test_rmse=[]\n",
    "    for i in k:\n",
    "        reg=KNN(n_neighbors=i)\n",
    "        reg.fit(train_x,train_y)\n",
    "        k_predict=reg.predict(test_x)\n",
    "        k_rmse=mse(k_predict,test_y,squared=False)\n",
    "        test_rmse.append(k_rmse)\n",
    "    return test_rmse"
   ]
  },
  {
   "cell_type": "code",
   "execution_count": 256,
   "id": "bddb2f12",
   "metadata": {},
   "outputs": [
    {
     "data": {
      "text/plain": [
       "range(1, 50)"
      ]
     },
     "execution_count": 256,
     "metadata": {},
     "output_type": "execute_result"
    }
   ],
   "source": [
    "k=range(1,50)\n",
    "k"
   ]
  },
  {
   "cell_type": "code",
   "execution_count": 257,
   "id": "2bb6a9e3",
   "metadata": {},
   "outputs": [
    {
     "data": {
      "text/plain": [
       "[4198.5940440580825,\n",
       " 3934.7084209633626,\n",
       " 3844.2537133811084,\n",
       " 3724.2951135181274,\n",
       " 3645.7805901595343,\n",
       " 3644.032838993999,\n",
       " 3616.959254465732,\n",
       " 3610.3930742025864,\n",
       " 3596.279862571294,\n",
       " 3580.6135319165624,\n",
       " 3577.013206727665,\n",
       " 3579.956020828561,\n",
       " 3581.5655598875724,\n",
       " 3568.77555012034,\n",
       " 3576.412872442256,\n",
       " 3571.41301953355,\n",
       " 3560.04400681871,\n",
       " 3557.9536581181105,\n",
       " 3554.974521511216,\n",
       " 3549.238730308797,\n",
       " 3544.421450490802,\n",
       " 3542.627541920132,\n",
       " 3535.7456439710836,\n",
       " 3536.278072851632,\n",
       " 3534.279039585822,\n",
       " 3530.845039447096,\n",
       " 3530.554904108263,\n",
       " 3527.8980748720937,\n",
       " 3525.355759854677,\n",
       " 3523.837753915025,\n",
       " 3521.013622712256,\n",
       " 3517.990515956206,\n",
       " 3517.002117356667,\n",
       " 3514.566109107475,\n",
       " 3515.2198746149343,\n",
       " 3513.953493723054,\n",
       " 3511.9429274391373,\n",
       " 3509.542067952413,\n",
       " 3507.503051265485,\n",
       " 3505.4718286052453,\n",
       " 3504.334018799833,\n",
       " 3502.9009658755654,\n",
       " 3502.716922055333,\n",
       " 3501.3678104542705,\n",
       " 3502.4902833107785,\n",
       " 3503.792337211373,\n",
       " 3503.05914852295,\n",
       " 3502.1994091118167,\n",
       " 3501.8464289683857]"
      ]
     },
     "execution_count": 257,
     "metadata": {},
     "output_type": "execute_result"
    }
   ],
   "source": [
    "test_k=rmse_K(k)\n",
    "test_k"
   ]
  },
  {
   "cell_type": "code",
   "execution_count": 258,
   "id": "fe472be7",
   "metadata": {},
   "outputs": [],
   "source": [
    "#plotting the elbow curve"
   ]
  },
  {
   "cell_type": "code",
   "execution_count": 259,
   "id": "1f1319c1",
   "metadata": {},
   "outputs": [
    {
     "data": {
      "text/plain": [
       "Text(0.5, 1.0, 'elbow curve')"
      ]
     },
     "execution_count": 259,
     "metadata": {},
     "output_type": "execute_result"
    },
    {
     "data": {
      "image/png": "[encoded data removed]",
      "text/plain": [
       "<Figure size 640x480 with 1 Axes>"
      ]
     },
     "metadata": {},
     "output_type": "display_data"
    }
   ],
   "source": [
    "plt.plot(k,test_k)\n",
    "plt.xlabel(\"k-value\")\n",
    "plt.ylabel(\"rmse value\")\n",
    "plt.title(\"elbow curve\")"
   ]
  },
  {
   "cell_type": "code",
   "execution_count": 260,
   "id": "c451f091",
   "metadata": {},
   "outputs": [],
   "source": [
    "# we deduce from the elbow curve that best value of k is 10"
   ]
  },
  {
   "cell_type": "code",
   "execution_count": 261,
   "id": "1eb2d5d4",
   "metadata": {},
   "outputs": [
    {
     "name": "stdout",
     "output_type": "stream",
     "text": [
      "Test RMSE :  3580.6135319165624\n"
     ]
    }
   ],
   "source": [
    "# Creating instance of KNN for k=10\n",
    "reg = KNN(n_neighbors = 10)\n",
    "\n",
    "# Fitting the model\n",
    "reg.fit(train_x, train_y)\n",
    "\n",
    "# Predicting over the Train Set and calculating MSE\n",
    "test_predict = reg.predict(test_x)\n",
    "k = mse(test_predict, test_y,squared=False)\n",
    "print(\"Test RMSE : \", k )"
   ]
  },
  {
   "cell_type": "markdown",
   "id": "4c1c9f00",
   "metadata": {},
   "source": [
    "### train score"
   ]
  },
  {
   "cell_type": "code",
   "execution_count": 262,
   "id": "7575628c",
   "metadata": {},
   "outputs": [
    {
     "data": {
      "text/plain": [
       "0.1222185907472706"
      ]
     },
     "execution_count": 262,
     "metadata": {},
     "output_type": "execute_result"
    }
   ],
   "source": [
    "train_score_knn=reg.score(train_x,train_y)\n",
    "train_score_knn"
   ]
  },
  {
   "cell_type": "code",
   "execution_count": 263,
   "id": "7556b075",
   "metadata": {},
   "outputs": [
    {
     "data": {
      "text/plain": [
       "-0.06503894340635252"
      ]
     },
     "execution_count": 263,
     "metadata": {},
     "output_type": "execute_result"
    }
   ],
   "source": [
    "test_score_knn=reg.score(test_x,test_y)\n",
    "test_score_knn"
   ]
  },
  {
   "cell_type": "markdown",
   "id": "e97bdaf4",
   "metadata": {},
   "source": [
    "### conclusions\n",
    "1. The best value of k by elbow curve method is 10.\n",
    "2. The rmse value for k=10 is 3890.900289397301.\n",
    "3. Train score=0.1298709228851228\n",
    "4. Test score=-0.031089967869172952"
   ]
  },
  {
   "cell_type": "markdown",
   "id": "d62caad7",
   "metadata": {},
   "source": [
    "# LINEAR REGRESSION MODEL"
   ]
  },
  {
   "cell_type": "markdown",
   "id": "7edc0c3d",
   "metadata": {},
   "source": [
    "### implementing linear regression"
   ]
  },
  {
   "cell_type": "code",
   "execution_count": 264,
   "id": "46ebb77a",
   "metadata": {},
   "outputs": [],
   "source": [
    "data2=pd.read_csv(\"E:\\\\internshala data science course\\\\COURSE 5-ML\\\\Resources-NYC Taxi Trip Project\\\\nyc_taxi_trip_duration.csv\")"
   ]
  },
  {
   "cell_type": "code",
   "execution_count": 265,
   "id": "df9e7bdf",
   "metadata": {},
   "outputs": [
    {
     "data": {
      "text/html": [
       "<div>\n",
       "<style scoped>\n",
       "    .dataframe tbody tr th:only-of-type {\n",
       "        vertical-align: middle;\n",
       "    }\n",
       "\n",
       "    .dataframe tbody tr th {\n",
       "        vertical-align: top;\n",
       "    }\n",
       "\n",
       "    .dataframe thead th {\n",
       "        text-align: right;\n",
       "    }\n",
       "</style>\n",
       "<table border=\"1\" class=\"dataframe\">\n",
       "  <thead>\n",
       "    <tr style=\"text-align: right;\">\n",
       "      <th></th>\n",
       "      <th>id</th>\n",
       "      <th>vendor_id</th>\n",
       "      <th>pickup_datetime</th>\n",
       "      <th>dropoff_datetime</th>\n",
       "      <th>passenger_count</th>\n",
       "      <th>pickup_longitude</th>\n",
       "      <th>pickup_latitude</th>\n",
       "      <th>dropoff_longitude</th>\n",
       "      <th>dropoff_latitude</th>\n",
       "      <th>store_and_fwd_flag</th>\n",
       "      <th>trip_duration</th>\n",
       "      <th>pickup_time</th>\n",
       "      <th>dropoff_time</th>\n",
       "    </tr>\n",
       "  </thead>\n",
       "  <tbody>\n",
       "    <tr>\n",
       "      <th>0</th>\n",
       "      <td>id1080784</td>\n",
       "      <td>2</td>\n",
       "      <td>2016-02-29 16:40:21</td>\n",
       "      <td>2016-02-29 16:40:21</td>\n",
       "      <td>1</td>\n",
       "      <td>-73.953918</td>\n",
       "      <td>40.778873</td>\n",
       "      <td>-73.963875</td>\n",
       "      <td>40.771164</td>\n",
       "      <td>N</td>\n",
       "      <td>400</td>\n",
       "      <td>60021</td>\n",
       "      <td>60021</td>\n",
       "    </tr>\n",
       "    <tr>\n",
       "      <th>1</th>\n",
       "      <td>id0889885</td>\n",
       "      <td>1</td>\n",
       "      <td>2016-03-11 23:35:37</td>\n",
       "      <td>2016-03-11 23:35:37</td>\n",
       "      <td>2</td>\n",
       "      <td>-73.988312</td>\n",
       "      <td>40.731743</td>\n",
       "      <td>-73.994751</td>\n",
       "      <td>40.694931</td>\n",
       "      <td>N</td>\n",
       "      <td>1100</td>\n",
       "      <td>84937</td>\n",
       "      <td>84937</td>\n",
       "    </tr>\n",
       "    <tr>\n",
       "      <th>2</th>\n",
       "      <td>id0857912</td>\n",
       "      <td>2</td>\n",
       "      <td>2016-02-21 17:59:33</td>\n",
       "      <td>2016-02-21 17:59:33</td>\n",
       "      <td>2</td>\n",
       "      <td>-73.997314</td>\n",
       "      <td>40.721458</td>\n",
       "      <td>-73.948029</td>\n",
       "      <td>40.774918</td>\n",
       "      <td>N</td>\n",
       "      <td>1635</td>\n",
       "      <td>64773</td>\n",
       "      <td>64773</td>\n",
       "    </tr>\n",
       "    <tr>\n",
       "      <th>3</th>\n",
       "      <td>id3744273</td>\n",
       "      <td>2</td>\n",
       "      <td>2016-01-05 09:44:31</td>\n",
       "      <td>2016-01-05 09:44:31</td>\n",
       "      <td>6</td>\n",
       "      <td>-73.961670</td>\n",
       "      <td>40.759720</td>\n",
       "      <td>-73.956779</td>\n",
       "      <td>40.780628</td>\n",
       "      <td>N</td>\n",
       "      <td>1141</td>\n",
       "      <td>35071</td>\n",
       "      <td>35071</td>\n",
       "    </tr>\n",
       "    <tr>\n",
       "      <th>4</th>\n",
       "      <td>id0232939</td>\n",
       "      <td>1</td>\n",
       "      <td>2016-02-17 06:42:23</td>\n",
       "      <td>2016-02-17 06:42:23</td>\n",
       "      <td>1</td>\n",
       "      <td>-74.017120</td>\n",
       "      <td>40.708469</td>\n",
       "      <td>-73.988182</td>\n",
       "      <td>40.740631</td>\n",
       "      <td>N</td>\n",
       "      <td>848</td>\n",
       "      <td>24143</td>\n",
       "      <td>24143</td>\n",
       "    </tr>\n",
       "  </tbody>\n",
       "</table>\n",
       "</div>"
      ],
      "text/plain": [
       "          id  vendor_id      pickup_datetime     dropoff_datetime  \\\n",
       "0  id1080784          2  2016-02-29 16:40:21  2016-02-29 16:40:21   \n",
       "1  id0889885          1  2016-03-11 23:35:37  2016-03-11 23:35:37   \n",
       "2  id0857912          2  2016-02-21 17:59:33  2016-02-21 17:59:33   \n",
       "3  id3744273          2  2016-01-05 09:44:31  2016-01-05 09:44:31   \n",
       "4  id0232939          1  2016-02-17 06:42:23  2016-02-17 06:42:23   \n",
       "\n",
       "   passenger_count  pickup_longitude  pickup_latitude  dropoff_longitude  \\\n",
       "0                1        -73.953918        40.778873         -73.963875   \n",
       "1                2        -73.988312        40.731743         -73.994751   \n",
       "2                2        -73.997314        40.721458         -73.948029   \n",
       "3                6        -73.961670        40.759720         -73.956779   \n",
       "4                1        -74.017120        40.708469         -73.988182   \n",
       "\n",
       "   dropoff_latitude store_and_fwd_flag  trip_duration  pickup_time  \\\n",
       "0         40.771164                  N            400        60021   \n",
       "1         40.694931                  N           1100        84937   \n",
       "2         40.774918                  N           1635        64773   \n",
       "3         40.780628                  N           1141        35071   \n",
       "4         40.740631                  N            848        24143   \n",
       "\n",
       "   dropoff_time  \n",
       "0         60021  \n",
       "1         84937  \n",
       "2         64773  \n",
       "3         35071  \n",
       "4         24143  "
      ]
     },
     "execution_count": 265,
     "metadata": {},
     "output_type": "execute_result"
    }
   ],
   "source": [
    "data2[\"pickup_datetime\"]=data2[\"pickup_datetime\"].astype(str)\n",
    "data2[\"dropoff_datetime\"]=data2[\"pickup_datetime\"].astype(str)\n",
    "data2[\"pickup_time\"]=data2[\"pickup_datetime\"].apply(lambda x: datetime.strptime(x,\"%Y-%m-%d %H:%M:%S\"))\n",
    "data2[\"dropoff_time\"]=data2[\"pickup_datetime\"].apply(lambda x: datetime.strptime(x,\"%Y-%m-%d %H:%M:%S\"))\n",
    "data2[\"pickup_time\"]=pd.to_datetime(data2[\"pickup_time\"],format=\"%Y-%m-%d %H:%M:%S\")\n",
    "data2[\"dropoff_time\"]=pd.to_datetime(data2[\"dropoff_time\"],format=\"%Y-%m-%d %H:%M:%S\")\n",
    "data2[\"pickup_time\"]=data2[\"pickup_time\"].apply(lambda x: x.hour*3600+x.minute*60+x.second)\n",
    "data2[\"dropoff_time\"]=data2[\"dropoff_time\"].apply(lambda x: x.hour*3600+x.minute*60+x.second)\n",
    "data2.head()"
   ]
  },
  {
   "cell_type": "code",
   "execution_count": 266,
   "id": "9ad2b4cd",
   "metadata": {},
   "outputs": [],
   "source": [
    "data2[\"vendor_id\"]=data2.vendor_id.astype(\"category\")\n",
    "data2[\"passenger_count\"]=data2.passenger_count.astype(\"category\")"
   ]
  },
  {
   "cell_type": "code",
   "execution_count": 267,
   "id": "9732b709",
   "metadata": {},
   "outputs": [
    {
     "data": {
      "text/html": [
       "<div>\n",
       "<style scoped>\n",
       "    .dataframe tbody tr th:only-of-type {\n",
       "        vertical-align: middle;\n",
       "    }\n",
       "\n",
       "    .dataframe tbody tr th {\n",
       "        vertical-align: top;\n",
       "    }\n",
       "\n",
       "    .dataframe thead th {\n",
       "        text-align: right;\n",
       "    }\n",
       "</style>\n",
       "<table border=\"1\" class=\"dataframe\">\n",
       "  <thead>\n",
       "    <tr style=\"text-align: right;\">\n",
       "      <th></th>\n",
       "      <th>id</th>\n",
       "      <th>vendor_id</th>\n",
       "      <th>pickup_datetime</th>\n",
       "      <th>dropoff_datetime</th>\n",
       "      <th>passenger_count</th>\n",
       "      <th>pickup_longitude</th>\n",
       "      <th>pickup_latitude</th>\n",
       "      <th>dropoff_longitude</th>\n",
       "      <th>dropoff_latitude</th>\n",
       "      <th>store_and_fwd_flag</th>\n",
       "      <th>trip_duration</th>\n",
       "      <th>pickup_time</th>\n",
       "      <th>dropoff_time</th>\n",
       "    </tr>\n",
       "  </thead>\n",
       "  <tbody>\n",
       "    <tr>\n",
       "      <th>487846</th>\n",
       "      <td>id1907830</td>\n",
       "      <td>1</td>\n",
       "      <td>2016-04-10 18:06:12</td>\n",
       "      <td>2016-04-10 18:06:12</td>\n",
       "      <td>1</td>\n",
       "      <td>-73.967468</td>\n",
       "      <td>40.756966</td>\n",
       "      <td>-73.978630</td>\n",
       "      <td>40.782639</td>\n",
       "      <td>N</td>\n",
       "      <td>788</td>\n",
       "      <td>65172</td>\n",
       "      <td>65172</td>\n",
       "    </tr>\n",
       "    <tr>\n",
       "      <th>429082</th>\n",
       "      <td>id0384701</td>\n",
       "      <td>1</td>\n",
       "      <td>2016-04-17 20:27:43</td>\n",
       "      <td>2016-04-17 20:27:43</td>\n",
       "      <td>1</td>\n",
       "      <td>-73.990578</td>\n",
       "      <td>40.757381</td>\n",
       "      <td>-73.964622</td>\n",
       "      <td>40.769604</td>\n",
       "      <td>N</td>\n",
       "      <td>614</td>\n",
       "      <td>73663</td>\n",
       "      <td>73663</td>\n",
       "    </tr>\n",
       "    <tr>\n",
       "      <th>18426</th>\n",
       "      <td>id3660143</td>\n",
       "      <td>2</td>\n",
       "      <td>2016-01-18 20:54:26</td>\n",
       "      <td>2016-01-18 20:54:26</td>\n",
       "      <td>1</td>\n",
       "      <td>-73.987694</td>\n",
       "      <td>40.738037</td>\n",
       "      <td>-73.987206</td>\n",
       "      <td>40.733433</td>\n",
       "      <td>N</td>\n",
       "      <td>172</td>\n",
       "      <td>75266</td>\n",
       "      <td>75266</td>\n",
       "    </tr>\n",
       "    <tr>\n",
       "      <th>240084</th>\n",
       "      <td>id0364085</td>\n",
       "      <td>1</td>\n",
       "      <td>2016-05-15 17:30:12</td>\n",
       "      <td>2016-05-15 17:30:12</td>\n",
       "      <td>1</td>\n",
       "      <td>-73.974396</td>\n",
       "      <td>40.790787</td>\n",
       "      <td>-73.994537</td>\n",
       "      <td>40.747738</td>\n",
       "      <td>N</td>\n",
       "      <td>1297</td>\n",
       "      <td>63012</td>\n",
       "      <td>63012</td>\n",
       "    </tr>\n",
       "    <tr>\n",
       "      <th>196232</th>\n",
       "      <td>id2154522</td>\n",
       "      <td>1</td>\n",
       "      <td>2016-02-03 12:35:27</td>\n",
       "      <td>2016-02-03 12:35:27</td>\n",
       "      <td>1</td>\n",
       "      <td>-73.863052</td>\n",
       "      <td>40.768620</td>\n",
       "      <td>-73.829559</td>\n",
       "      <td>40.756367</td>\n",
       "      <td>N</td>\n",
       "      <td>942</td>\n",
       "      <td>45327</td>\n",
       "      <td>45327</td>\n",
       "    </tr>\n",
       "  </tbody>\n",
       "</table>\n",
       "</div>"
      ],
      "text/plain": [
       "               id vendor_id      pickup_datetime     dropoff_datetime  \\\n",
       "487846  id1907830         1  2016-04-10 18:06:12  2016-04-10 18:06:12   \n",
       "429082  id0384701         1  2016-04-17 20:27:43  2016-04-17 20:27:43   \n",
       "18426   id3660143         2  2016-01-18 20:54:26  2016-01-18 20:54:26   \n",
       "240084  id0364085         1  2016-05-15 17:30:12  2016-05-15 17:30:12   \n",
       "196232  id2154522         1  2016-02-03 12:35:27  2016-02-03 12:35:27   \n",
       "\n",
       "       passenger_count  pickup_longitude  pickup_latitude  dropoff_longitude  \\\n",
       "487846               1        -73.967468        40.756966         -73.978630   \n",
       "429082               1        -73.990578        40.757381         -73.964622   \n",
       "18426                1        -73.987694        40.738037         -73.987206   \n",
       "240084               1        -73.974396        40.790787         -73.994537   \n",
       "196232               1        -73.863052        40.768620         -73.829559   \n",
       "\n",
       "        dropoff_latitude store_and_fwd_flag  trip_duration  pickup_time  \\\n",
       "487846         40.782639                  N            788        65172   \n",
       "429082         40.769604                  N            614        73663   \n",
       "18426          40.733433                  N            172        75266   \n",
       "240084         40.747738                  N           1297        63012   \n",
       "196232         40.756367                  N            942        45327   \n",
       "\n",
       "        dropoff_time  \n",
       "487846         65172  \n",
       "429082         73663  \n",
       "18426          75266  \n",
       "240084         63012  \n",
       "196232         45327  "
      ]
     },
     "execution_count": 267,
     "metadata": {},
     "output_type": "execute_result"
    }
   ],
   "source": [
    "# taking a sample of 10000 records\n",
    "df2=data.sample(10000)\n",
    "df2.head()"
   ]
  },
  {
   "cell_type": "code",
   "execution_count": 279,
   "id": "afc5f454",
   "metadata": {},
   "outputs": [
    {
     "data": {
      "text/plain": [
       "((10000, 7), (10000,))"
      ]
     },
     "execution_count": 279,
     "metadata": {},
     "output_type": "execute_result"
    }
   ],
   "source": [
    "x2 = df2.drop([\"trip_duration\",\"pickup_datetime\",\"dropoff_datetime\",\"id\",\"store_and_fwd_flag\",\"dropoff_time\"],axis=1)\n",
    "y2 = df2['trip_duration']\n",
    "x2.shape, y2.shape"
   ]
  },
  {
   "cell_type": "code",
   "execution_count": 280,
   "id": "bce206e6",
   "metadata": {},
   "outputs": [],
   "source": [
    "from sklearn.model_selection import train_test_split\n",
    "train_x2,test_x2,train_y2,test_y2 = train_test_split(x2,y2, random_state = 56)"
   ]
  },
  {
   "cell_type": "code",
   "execution_count": 281,
   "id": "743c28ad",
   "metadata": {},
   "outputs": [],
   "source": [
    "#importing Linear Regression and metric mean square error\n",
    "from sklearn.linear_model import LinearRegression as LR\n",
    "from sklearn.metrics import mean_squared_error as mse"
   ]
  },
  {
   "cell_type": "code",
   "execution_count": 282,
   "id": "cd2dbec8",
   "metadata": {},
   "outputs": [
    {
     "data": {
      "text/plain": [
       "LinearRegression()"
      ]
     },
     "execution_count": 282,
     "metadata": {},
     "output_type": "execute_result"
    }
   ],
   "source": [
    "# Creating instance of Linear Regresssion\n",
    "lr = LR()\n",
    "\n",
    "# Fitting the model\n",
    "lr.fit(train_x2, train_y2)"
   ]
  },
  {
   "cell_type": "code",
   "execution_count": 283,
   "id": "1ba663b6",
   "metadata": {},
   "outputs": [
    {
     "name": "stdout",
     "output_type": "stream",
     "text": [
      "Training Mean Squared Error 3280.919946024408\n"
     ]
    }
   ],
   "source": [
    "# Predicting over the Train Set and calculating error\n",
    "train_predict_lr = lr.predict(train_x2)\n",
    "k_train_lr = mse(train_predict_lr, train_y2,squared=False)\n",
    "print('Training Mean Squared Error', k_train_lr )"
   ]
  },
  {
   "cell_type": "code",
   "execution_count": 284,
   "id": "3d673027",
   "metadata": {},
   "outputs": [
    {
     "name": "stdout",
     "output_type": "stream",
     "text": [
      "Test Mean Squared Error     3433.1665915670114\n"
     ]
    }
   ],
   "source": [
    "# Predicting over the Test Set and calculating error\n",
    "test_predict_lr = lr.predict(test_x2)\n",
    "k_test_lr = mse(test_predict_lr, test_y2,squared=False)\n",
    "print('Test Mean Squared Error    ', k_test_lr )"
   ]
  },
  {
   "cell_type": "markdown",
   "id": "521e45b5",
   "metadata": {},
   "source": [
    "### parameters of linear regression"
   ]
  },
  {
   "cell_type": "code",
   "execution_count": 285,
   "id": "f990d3df",
   "metadata": {},
   "outputs": [
    {
     "data": {
      "text/plain": [
       "array([ 1.84959612e+02,  4.66415075e+01,  3.90821082e+03, -2.39049255e+03,\n",
       "        4.30920618e+03, -4.49521227e+03,  1.74477582e-03])"
      ]
     },
     "execution_count": 285,
     "metadata": {},
     "output_type": "execute_result"
    }
   ],
   "source": [
    "lr.coef_"
   ]
  },
  {
   "cell_type": "markdown",
   "id": "fb72c4ba",
   "metadata": {},
   "source": [
    "### plotting the coeffecients"
   ]
  },
  {
   "cell_type": "code",
   "execution_count": 286,
   "id": "3a30d3af",
   "metadata": {},
   "outputs": [
    {
     "data": {
      "text/plain": [
       "Text(0.5, 1.0, 'Coefficient plot')"
      ]
     },
     "execution_count": 286,
     "metadata": {},
     "output_type": "execute_result"
    },
    {
     "data": {
      "image/png": "[encoded data removed]",
      "text/plain": [
       "<Figure size 960x720 with 1 Axes>"
      ]
     },
     "metadata": {},
     "output_type": "display_data"
    }
   ],
   "source": [
    "plt.figure(figsize=(8, 6), dpi=120, facecolor='w', edgecolor='b')\n",
    "a = range(len(train_x2.columns))\n",
    "b = lr.coef_\n",
    "plt.bar( a, b )\n",
    "plt.xlabel( \"Variables\")\n",
    "plt.ylabel('Coefficients')\n",
    "plt.title('Coefficient plot')"
   ]
  },
  {
   "cell_type": "markdown",
   "id": "fae5d58a",
   "metadata": {},
   "source": [
    "Here we can see that model depends on two values basically, other values are insignificant in comparison."
   ]
  },
  {
   "cell_type": "markdown",
   "id": "705df4d4",
   "metadata": {},
   "source": [
    "### checking assumptions of linear model"
   ]
  },
  {
   "cell_type": "code",
   "execution_count": 287,
   "id": "d77965b6",
   "metadata": {},
   "outputs": [
    {
     "data": {
      "text/html": [
       "<div>\n",
       "<style scoped>\n",
       "    .dataframe tbody tr th:only-of-type {\n",
       "        vertical-align: middle;\n",
       "    }\n",
       "\n",
       "    .dataframe tbody tr th {\n",
       "        vertical-align: top;\n",
       "    }\n",
       "\n",
       "    .dataframe thead th {\n",
       "        text-align: right;\n",
       "    }\n",
       "</style>\n",
       "<table border=\"1\" class=\"dataframe\">\n",
       "  <thead>\n",
       "    <tr style=\"text-align: right;\">\n",
       "      <th></th>\n",
       "      <th>fitted values</th>\n",
       "      <th>predicted values</th>\n",
       "      <th>residuals</th>\n",
       "    </tr>\n",
       "  </thead>\n",
       "  <tbody>\n",
       "    <tr>\n",
       "      <th>321708</th>\n",
       "      <td>828</td>\n",
       "      <td>1181.718924</td>\n",
       "      <td>-353.718924</td>\n",
       "    </tr>\n",
       "    <tr>\n",
       "      <th>691534</th>\n",
       "      <td>186</td>\n",
       "      <td>788.369621</td>\n",
       "      <td>-602.369621</td>\n",
       "    </tr>\n",
       "    <tr>\n",
       "      <th>403864</th>\n",
       "      <td>593</td>\n",
       "      <td>911.731282</td>\n",
       "      <td>-318.731282</td>\n",
       "    </tr>\n",
       "    <tr>\n",
       "      <th>634645</th>\n",
       "      <td>525</td>\n",
       "      <td>790.250530</td>\n",
       "      <td>-265.250530</td>\n",
       "    </tr>\n",
       "    <tr>\n",
       "      <th>696551</th>\n",
       "      <td>1679</td>\n",
       "      <td>764.132360</td>\n",
       "      <td>914.867640</td>\n",
       "    </tr>\n",
       "  </tbody>\n",
       "</table>\n",
       "</div>"
      ],
      "text/plain": [
       "        fitted values  predicted values   residuals\n",
       "321708            828       1181.718924 -353.718924\n",
       "691534            186        788.369621 -602.369621\n",
       "403864            593        911.731282 -318.731282\n",
       "634645            525        790.250530 -265.250530\n",
       "696551           1679        764.132360  914.867640"
      ]
     },
     "execution_count": 287,
     "metadata": {},
     "output_type": "execute_result"
    }
   ],
   "source": [
    "# Arranging and calculating the Residuals\n",
    "residuals = pd.DataFrame({\n",
    "    'fitted values' : test_y2,\n",
    "    'predicted values' : test_predict_lr,\n",
    "})\n",
    "\n",
    "residuals['residuals'] = residuals['fitted values'] - residuals['predicted values']\n",
    "residuals.head()"
   ]
  },
  {
   "cell_type": "markdown",
   "id": "cf0df249",
   "metadata": {},
   "source": [
    "### checking distribution of residuals"
   ]
  },
  {
   "cell_type": "code",
   "execution_count": 288,
   "id": "bc4dfb11",
   "metadata": {
    "scrolled": true
   },
   "outputs": [
    {
     "data": {
      "image/png": "[encoded data removed]",
      "text/plain": [
       "<Figure size 1200x720 with 1 Axes>"
      ]
     },
     "metadata": {},
     "output_type": "display_data"
    }
   ],
   "source": [
    "# Histogram for distribution\n",
    "plt.figure(figsize=(10, 6), dpi=120, facecolor='w', edgecolor='b')\n",
    "plt.hist(residuals.residuals, bins = 150)\n",
    "plt.xlabel('Error')\n",
    "plt.ylabel('Frequency')\n",
    "plt.title('Distribution of Error Terms')\n",
    "plt.show()"
   ]
  },
  {
   "cell_type": "markdown",
   "id": "976958e6",
   "metadata": {},
   "source": [
    "the distribution of resicduals is normal"
   ]
  },
  {
   "cell_type": "markdown",
   "id": "685e0f9a",
   "metadata": {},
   "source": [
    "### Q-Q plot"
   ]
  },
  {
   "cell_type": "code",
   "execution_count": 289,
   "id": "b15fcf5c",
   "metadata": {
    "scrolled": true
   },
   "outputs": [
    {
     "data": {
      "image/png": "[encoded data removed]",
      "text/plain": [
       "<Figure size 600x600 with 1 Axes>"
      ]
     },
     "metadata": {},
     "output_type": "display_data"
    }
   ],
   "source": [
    "# importing the QQ-plot from the from the statsmodels\n",
    "from statsmodels.graphics.gofplots import qqplot\n",
    "\n",
    "## Plotting the QQ plot\n",
    "fig, ax = plt.subplots(figsize=(5,5) , dpi = 120)\n",
    "qqplot(residuals.residuals, line = 's' , ax = ax)\n",
    "plt.ylabel('Residual Quantiles')\n",
    "plt.xlabel('Ideal Scaled Quantiles')\n",
    "plt.title('Checking distribution of Residual Errors')\n",
    "plt.show()"
   ]
  },
  {
   "cell_type": "markdown",
   "id": "e3f0a702",
   "metadata": {},
   "source": [
    "The QQ-plot clearly verifies our findings from the the histogram of the residuals, the data is mostly normal in nature, but there sre some outliers on the higher end of the Residues."
   ]
  },
  {
   "cell_type": "code",
   "execution_count": null,
   "id": "a65d55f8",
   "metadata": {},
   "outputs": [],
   "source": []
  },
  {
   "cell_type": "markdown",
   "id": "486ae678",
   "metadata": {},
   "source": [
    "### model interpretability"
   ]
  },
  {
   "cell_type": "code",
   "execution_count": 300,
   "id": "8852d7f6",
   "metadata": {},
   "outputs": [
    {
     "data": {
      "text/plain": [
       "LinearRegression(normalize=True)"
      ]
     },
     "execution_count": 300,
     "metadata": {},
     "output_type": "execute_result"
    }
   ],
   "source": [
    "# Creating instance of Linear Regresssion\n",
    "lr_normalized = LR(normalize = True)\n",
    "\n",
    "# Fitting the model\n",
    "lr_normalized.fit(train_x2, train_y2)"
   ]
  },
  {
   "cell_type": "code",
   "execution_count": 301,
   "id": "773d7436",
   "metadata": {},
   "outputs": [
    {
     "name": "stdout",
     "output_type": "stream",
     "text": [
      "Training Mean Squared Error 3280.9199460244095\n"
     ]
    }
   ],
   "source": [
    "# Predicting over the Train Set and calculating error\n",
    "train_predict_lr_normalized = lr_normalized.predict(train_x2)\n",
    "k_train_lr_normalized = mse(train_predict_lr_normalized, train_y2,squared=False)\n",
    "print('Training Mean Squared Error', k_train_lr_normalized )"
   ]
  },
  {
   "cell_type": "code",
   "execution_count": 302,
   "id": "f6ad8e6e",
   "metadata": {},
   "outputs": [
    {
     "name": "stdout",
     "output_type": "stream",
     "text": [
      "Test Mean Squared Error     3433.1665915670187\n"
     ]
    }
   ],
   "source": [
    "# Predicting over the Test Set and calculating error\n",
    "test_predict_lr_normalized = lr_normalized.predict(test_x2)\n",
    "k_test_lr_normalized = mse(test_predict_lr_normalized, test_y2,squared=False)\n",
    "print('Test Mean Squared Error    ', k_test_lr_normalized )"
   ]
  },
  {
   "cell_type": "code",
   "execution_count": 303,
   "id": "50fd2a20",
   "metadata": {},
   "outputs": [
    {
     "data": {
      "text/plain": [
       "array([ 1.84959612e+02,  4.66415075e+01,  3.90821082e+03, -2.39049255e+03,\n",
       "        4.30920618e+03, -4.49521227e+03,  1.74477582e-03])"
      ]
     },
     "execution_count": 303,
     "metadata": {},
     "output_type": "execute_result"
    }
   ],
   "source": [
    "lr_normalized.coef_"
   ]
  },
  {
   "cell_type": "code",
   "execution_count": 304,
   "id": "2e94d858",
   "metadata": {
    "scrolled": true
   },
   "outputs": [
    {
     "data": {
      "text/plain": [
       "Text(0.5, 1.0, 'Normalized Coefficient plot')"
      ]
     },
     "execution_count": 304,
     "metadata": {},
     "output_type": "execute_result"
    },
    {
     "data": {
      "image/png": "[encoded data removed]",
      "text/plain": [
       "<Figure size 960x720 with 1 Axes>"
      ]
     },
     "metadata": {},
     "output_type": "display_data"
    }
   ],
   "source": [
    "plt.figure(figsize=(8, 6), dpi=120, facecolor='w', edgecolor='b')\n",
    "c = range(len(train_x2.columns))\n",
    "d = lr_normalized.coef_\n",
    "plt.bar( c, d )\n",
    "plt.xlabel( \"Variables\")\n",
    "plt.ylabel('Coefficients')\n",
    "plt.title('Normalized Coefficient plot')"
   ]
  },
  {
   "cell_type": "code",
   "execution_count": 305,
   "id": "b17858e1",
   "metadata": {},
   "outputs": [
    {
     "data": {
      "text/plain": [
       "0.010161112203474376"
      ]
     },
     "execution_count": 305,
     "metadata": {},
     "output_type": "execute_result"
    }
   ],
   "source": [
    "# training score\n",
    "lr_train_score=lr.score(train_x2,train_y2)\n",
    "lr_train_score"
   ]
  },
  {
   "cell_type": "code",
   "execution_count": 306,
   "id": "5dd02fd9",
   "metadata": {},
   "outputs": [
    {
     "data": {
      "text/plain": [
       "0.004160578441484986"
      ]
     },
     "execution_count": 306,
     "metadata": {},
     "output_type": "execute_result"
    }
   ],
   "source": [
    "# testing score\n",
    "lr_test_score=lr.score(test_x2,test_y2)\n",
    "lr_test_score"
   ]
  },
  {
   "cell_type": "markdown",
   "id": "0137d995",
   "metadata": {},
   "source": [
    "# conclusions\n",
    "1. the test and train rmse have huge difference with respective values as 901.8734980988819 and 2945.3543565054497.\n",
    "2. there are some coeffecients with negative values as well and one coeffecient with negligible value.\n",
    "3. the train score is very low 0.014618012597249375.\n",
    "4. the test score is very low 0.12014754801960281.\n",
    "5. test score is comparatively very high than train score."
   ]
  },
  {
   "cell_type": "markdown",
   "id": "70622cc8",
   "metadata": {},
   "source": [
    "#  comparing scores of KNN and LR models"
   ]
  },
  {
   "cell_type": "code",
   "execution_count": 307,
   "id": "e55ca1ce",
   "metadata": {},
   "outputs": [
    {
     "data": {
      "text/plain": [
       "(0.1222185907472706, 0.010161112203474376)"
      ]
     },
     "execution_count": 307,
     "metadata": {},
     "output_type": "execute_result"
    }
   ],
   "source": [
    "train_score_knn,lr_train_score"
   ]
  },
  {
   "cell_type": "code",
   "execution_count": 308,
   "id": "ff33c353",
   "metadata": {},
   "outputs": [],
   "source": [
    "e=[\"knn train score\",\"LR train score\"]\n",
    "f=[0.1298709228851228,0.014618012597249375]"
   ]
  },
  {
   "cell_type": "code",
   "execution_count": 309,
   "id": "05dc1d45",
   "metadata": {},
   "outputs": [
    {
     "data": {
      "image/png": "[encoded data removed]",
      "text/plain": [
       "<Figure size 640x480 with 1 Axes>"
      ]
     },
     "metadata": {},
     "output_type": "display_data"
    }
   ],
   "source": [
    "plt.figure(dpi=100)\n",
    "plt.bar(e,f)\n",
    "plt.xlabel(\"models\")\n",
    "plt.ylabel(\"train scores\")\n",
    "plt.show()"
   ]
  },
  {
   "cell_type": "code",
   "execution_count": 310,
   "id": "404d406a",
   "metadata": {},
   "outputs": [
    {
     "data": {
      "text/plain": [
       "(-0.06503894340635252, 0.004160578441484986)"
      ]
     },
     "execution_count": 310,
     "metadata": {},
     "output_type": "execute_result"
    }
   ],
   "source": [
    "test_score_knn,lr_test_score"
   ]
  },
  {
   "cell_type": "code",
   "execution_count": 311,
   "id": "66502d89",
   "metadata": {},
   "outputs": [],
   "source": [
    "g=[\"knn test score\",\"LR test score\"]\n",
    "h=[-0.031089967869172952,0.12014754801960281]"
   ]
  },
  {
   "cell_type": "code",
   "execution_count": 312,
   "id": "5758c9f2",
   "metadata": {},
   "outputs": [
    {
     "data": {
      "image/png": "[encoded data removed]",
      "text/plain": [
       "<Figure size 640x480 with 1 Axes>"
      ]
     },
     "metadata": {},
     "output_type": "display_data"
    }
   ],
   "source": [
    "plt.figure(dpi=100)\n",
    "plt.bar(g,h)\n",
    "plt.xlabel(\"models\")\n",
    "plt.ylabel(\"train scores\")\n",
    "plt.show()"
   ]
  },
  {
   "cell_type": "code",
   "execution_count": null,
   "id": "c8835f4a",
   "metadata": {},
   "outputs": [],
   "source": []
  },
  {
   "cell_type": "code",
   "execution_count": null,
   "id": "b894bfa0",
   "metadata": {},
   "outputs": [],
   "source": []
  }
 ],
 "metadata": {
  "kernelspec": {
   "display_name": "Python 3 (ipykernel)",
   "language": "python",
   "name": "python3"
  },
  "language_info": {
   "codemirror_mode": {
    "name": "ipython",
    "version": 3
   },
   "file_extension": ".py",
   "mimetype": "text/x-python",
   "name": "python",
   "nbconvert_exporter": "python",
   "pygments_lexer": "ipython3",
   "version": "3.9.13"
  }
 },
 "nbformat": 4,
 "nbformat_minor": 5
}
