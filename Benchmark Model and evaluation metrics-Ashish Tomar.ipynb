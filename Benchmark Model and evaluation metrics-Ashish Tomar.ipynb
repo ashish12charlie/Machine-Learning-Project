{
 "cells": [
  {
   "cell_type": "markdown",
   "id": "12dcdde5",
   "metadata": {},
   "source": [
    "# EVALUATION METRIC"
   ]
  },
  {
   "cell_type": "markdown",
   "id": "1c4c155b",
   "metadata": {},
   "source": [
    "I've chosen 5 evaluation metrics. And the reason for chosing them is because the target or dependent variable is a continuous variable, hence regression model has to be applied on the dataset.\n",
    "The metrics i've chosen are as follows:-\n",
    "1. Mean Squared Error- because it's the standard metric for regression model.\n",
    "2. Root Mean Squared Error- because it gives the error in the same unit and nt a squared one.\n",
    "3. Root Mean Squared Log Error- because this type of error is even more precise and relevant than the above two.\n",
    "4. R-suqare and Adjusted R-square to compare the efficiency of the model in various scenarios.\n",
    "\n",
    "But for the benchmark model, i've simple use root mean square error only."
   ]
  },
  {
   "cell_type": "markdown",
   "id": "7109f251",
   "metadata": {},
   "source": [
    "# BUILDING THE BENCHMARK MODEL"
   ]
  },
  {
   "cell_type": "code",
   "execution_count": 86,
   "id": "3d0e7cbf",
   "metadata": {},
   "outputs": [],
   "source": [
    "#importing required libraries\n",
    "import numpy as np\n",
    "import pandas as pd\n",
    "import matplotlib.pyplot as plt"
   ]
  },
  {
   "cell_type": "code",
   "execution_count": 87,
   "id": "93e0b8e3",
   "metadata": {},
   "outputs": [],
   "source": [
    "#reading the dataset\n",
    "data=pd.read_csv(\"E:\\\\internshala data science course\\\\COURSE 5-ML\\\\Resources-NYC Taxi Trip Project\\\\nyc_taxi_trip_duration.csv\")"
   ]
  },
  {
   "cell_type": "code",
   "execution_count": 88,
   "id": "42ee6498",
   "metadata": {},
   "outputs": [],
   "source": [
    "#exploring data"
   ]
  },
  {
   "cell_type": "code",
   "execution_count": 89,
   "id": "61d529da",
   "metadata": {},
   "outputs": [
    {
     "data": {
      "text/plain": [
       "(729322, 11)"
      ]
     },
     "execution_count": 89,
     "metadata": {},
     "output_type": "execute_result"
    }
   ],
   "source": [
    "data.shape"
   ]
  },
  {
   "cell_type": "code",
   "execution_count": 90,
   "id": "3b63aa7c",
   "metadata": {},
   "outputs": [
    {
     "data": {
      "text/html": [
       "<div>\n",
       "<style scoped>\n",
       "    .dataframe tbody tr th:only-of-type {\n",
       "        vertical-align: middle;\n",
       "    }\n",
       "\n",
       "    .dataframe tbody tr th {\n",
       "        vertical-align: top;\n",
       "    }\n",
       "\n",
       "    .dataframe thead th {\n",
       "        text-align: right;\n",
       "    }\n",
       "</style>\n",
       "<table border=\"1\" class=\"dataframe\">\n",
       "  <thead>\n",
       "    <tr style=\"text-align: right;\">\n",
       "      <th></th>\n",
       "      <th>id</th>\n",
       "      <th>vendor_id</th>\n",
       "      <th>pickup_datetime</th>\n",
       "      <th>dropoff_datetime</th>\n",
       "      <th>passenger_count</th>\n",
       "      <th>pickup_longitude</th>\n",
       "      <th>pickup_latitude</th>\n",
       "      <th>dropoff_longitude</th>\n",
       "      <th>dropoff_latitude</th>\n",
       "      <th>store_and_fwd_flag</th>\n",
       "      <th>trip_duration</th>\n",
       "    </tr>\n",
       "  </thead>\n",
       "  <tbody>\n",
       "    <tr>\n",
       "      <th>0</th>\n",
       "      <td>id1080784</td>\n",
       "      <td>2</td>\n",
       "      <td>2016-02-29 16:40:21</td>\n",
       "      <td>2016-02-29 16:47:01</td>\n",
       "      <td>1</td>\n",
       "      <td>-73.953918</td>\n",
       "      <td>40.778873</td>\n",
       "      <td>-73.963875</td>\n",
       "      <td>40.771164</td>\n",
       "      <td>N</td>\n",
       "      <td>400</td>\n",
       "    </tr>\n",
       "    <tr>\n",
       "      <th>1</th>\n",
       "      <td>id0889885</td>\n",
       "      <td>1</td>\n",
       "      <td>2016-03-11 23:35:37</td>\n",
       "      <td>2016-03-11 23:53:57</td>\n",
       "      <td>2</td>\n",
       "      <td>-73.988312</td>\n",
       "      <td>40.731743</td>\n",
       "      <td>-73.994751</td>\n",
       "      <td>40.694931</td>\n",
       "      <td>N</td>\n",
       "      <td>1100</td>\n",
       "    </tr>\n",
       "    <tr>\n",
       "      <th>2</th>\n",
       "      <td>id0857912</td>\n",
       "      <td>2</td>\n",
       "      <td>2016-02-21 17:59:33</td>\n",
       "      <td>2016-02-21 18:26:48</td>\n",
       "      <td>2</td>\n",
       "      <td>-73.997314</td>\n",
       "      <td>40.721458</td>\n",
       "      <td>-73.948029</td>\n",
       "      <td>40.774918</td>\n",
       "      <td>N</td>\n",
       "      <td>1635</td>\n",
       "    </tr>\n",
       "    <tr>\n",
       "      <th>3</th>\n",
       "      <td>id3744273</td>\n",
       "      <td>2</td>\n",
       "      <td>2016-01-05 09:44:31</td>\n",
       "      <td>2016-01-05 10:03:32</td>\n",
       "      <td>6</td>\n",
       "      <td>-73.961670</td>\n",
       "      <td>40.759720</td>\n",
       "      <td>-73.956779</td>\n",
       "      <td>40.780628</td>\n",
       "      <td>N</td>\n",
       "      <td>1141</td>\n",
       "    </tr>\n",
       "    <tr>\n",
       "      <th>4</th>\n",
       "      <td>id0232939</td>\n",
       "      <td>1</td>\n",
       "      <td>2016-02-17 06:42:23</td>\n",
       "      <td>2016-02-17 06:56:31</td>\n",
       "      <td>1</td>\n",
       "      <td>-74.017120</td>\n",
       "      <td>40.708469</td>\n",
       "      <td>-73.988182</td>\n",
       "      <td>40.740631</td>\n",
       "      <td>N</td>\n",
       "      <td>848</td>\n",
       "    </tr>\n",
       "  </tbody>\n",
       "</table>\n",
       "</div>"
      ],
      "text/plain": [
       "          id  vendor_id      pickup_datetime     dropoff_datetime  \\\n",
       "0  id1080784          2  2016-02-29 16:40:21  2016-02-29 16:47:01   \n",
       "1  id0889885          1  2016-03-11 23:35:37  2016-03-11 23:53:57   \n",
       "2  id0857912          2  2016-02-21 17:59:33  2016-02-21 18:26:48   \n",
       "3  id3744273          2  2016-01-05 09:44:31  2016-01-05 10:03:32   \n",
       "4  id0232939          1  2016-02-17 06:42:23  2016-02-17 06:56:31   \n",
       "\n",
       "   passenger_count  pickup_longitude  pickup_latitude  dropoff_longitude  \\\n",
       "0                1        -73.953918        40.778873         -73.963875   \n",
       "1                2        -73.988312        40.731743         -73.994751   \n",
       "2                2        -73.997314        40.721458         -73.948029   \n",
       "3                6        -73.961670        40.759720         -73.956779   \n",
       "4                1        -74.017120        40.708469         -73.988182   \n",
       "\n",
       "   dropoff_latitude store_and_fwd_flag  trip_duration  \n",
       "0         40.771164                  N            400  \n",
       "1         40.694931                  N           1100  \n",
       "2         40.774918                  N           1635  \n",
       "3         40.780628                  N           1141  \n",
       "4         40.740631                  N            848  "
      ]
     },
     "execution_count": 90,
     "metadata": {},
     "output_type": "execute_result"
    }
   ],
   "source": [
    "data.head()"
   ]
  },
  {
   "cell_type": "code",
   "execution_count": 91,
   "id": "c3b36906",
   "metadata": {
    "scrolled": true
   },
   "outputs": [
    {
     "data": {
      "text/plain": [
       "id                    0\n",
       "vendor_id             0\n",
       "pickup_datetime       0\n",
       "dropoff_datetime      0\n",
       "passenger_count       0\n",
       "pickup_longitude      0\n",
       "pickup_latitude       0\n",
       "dropoff_longitude     0\n",
       "dropoff_latitude      0\n",
       "store_and_fwd_flag    0\n",
       "trip_duration         0\n",
       "dtype: int64"
      ]
     },
     "execution_count": 91,
     "metadata": {},
     "output_type": "execute_result"
    }
   ],
   "source": [
    "data.isnull().sum()"
   ]
  },
  {
   "cell_type": "code",
   "execution_count": 92,
   "id": "f7a8f7ce",
   "metadata": {},
   "outputs": [],
   "source": [
    "data[\"pickup_time\"]=pd.to_datetime(data[\"pickup_datetime\"],format=\"%Y-%m-%d %H:%M:%S\")\n",
    "data[\"dropoff_time\"]=pd.to_datetime(data[\"dropoff_datetime\"],format=\"%Y-%m-%d %H:%M:%S\")"
   ]
  },
  {
   "cell_type": "code",
   "execution_count": 93,
   "id": "10695891",
   "metadata": {},
   "outputs": [],
   "source": [
    "data[\"pickup_hour\"]=data[\"pickup_time\"].dt.hour\n",
    "data[\"pickup_weekday\"]=data[\"pickup_time\"].dt.weekday"
   ]
  },
  {
   "cell_type": "code",
   "execution_count": 94,
   "id": "cf5d9503",
   "metadata": {},
   "outputs": [
    {
     "data": {
      "text/plain": [
       "0         16\n",
       "1         23\n",
       "2         17\n",
       "3          9\n",
       "4          6\n",
       "          ..\n",
       "729317    13\n",
       "729318     0\n",
       "729319    18\n",
       "729320     9\n",
       "729321    17\n",
       "Name: pickup_hour, Length: 729322, dtype: int64"
      ]
     },
     "execution_count": 94,
     "metadata": {},
     "output_type": "execute_result"
    }
   ],
   "source": [
    "data[\"pickup_hour\"]"
   ]
  },
  {
   "cell_type": "code",
   "execution_count": 95,
   "id": "48c4eb54",
   "metadata": {},
   "outputs": [],
   "source": [
    "def time_of_pickup(x):\n",
    "    if x in range(4,7):\n",
    "        return \"early morning\"\n",
    "    elif x in range(7,10):\n",
    "        return \"morning\"\n",
    "    elif x in range(10,16):\n",
    "        return \"peak hours\"\n",
    "    elif x in range(16,19):\n",
    "        return \"evening\"\n",
    "    elif x in range(19,22):\n",
    "        return \"night\"\n",
    "    else:\n",
    "        return \"late night\"\n",
    "def weekday_of_pickup(x):\n",
    "    if x<5:\n",
    "        return \"weekday\"\n",
    "    else:\n",
    "        return \"weekend\""
   ]
  },
  {
   "cell_type": "code",
   "execution_count": 96,
   "id": "ca81a776",
   "metadata": {},
   "outputs": [],
   "source": [
    "data[\"pickup_hour\"]=data[\"pickup_hour\"].apply(time_of_pickup)\n",
    "data[\"pickup_weekday\"]=data[\"pickup_weekday\"].apply(weekday_of_pickup)"
   ]
  },
  {
   "cell_type": "code",
   "execution_count": 97,
   "id": "044f149c",
   "metadata": {},
   "outputs": [
    {
     "data": {
      "text/plain": [
       "peak hours       211031\n",
       "late night       145715\n",
       "night            129472\n",
       "evening          115864\n",
       "morning           95340\n",
       "early morning     31900\n",
       "Name: pickup_hour, dtype: int64"
      ]
     },
     "execution_count": 97,
     "metadata": {},
     "output_type": "execute_result"
    }
   ],
   "source": [
    "data[\"pickup_hour\"].value_counts()"
   ]
  },
  {
   "cell_type": "code",
   "execution_count": 98,
   "id": "fa4d073f",
   "metadata": {},
   "outputs": [
    {
     "data": {
      "text/plain": [
       "weekday    521388\n",
       "weekend    207934\n",
       "Name: pickup_weekday, dtype: int64"
      ]
     },
     "execution_count": 98,
     "metadata": {},
     "output_type": "execute_result"
    }
   ],
   "source": [
    "data[\"pickup_weekday\"].value_counts()"
   ]
  },
  {
   "cell_type": "markdown",
   "id": "bb2f3edd",
   "metadata": {},
   "source": [
    "### Shuffling and creating test and train data"
   ]
  },
  {
   "cell_type": "code",
   "execution_count": 99,
   "id": "4169e225",
   "metadata": {},
   "outputs": [],
   "source": [
    "from sklearn.utils import shuffle \n",
    "data=shuffle(data,random_state=42)"
   ]
  },
  {
   "cell_type": "code",
   "execution_count": 100,
   "id": "ecf98508",
   "metadata": {},
   "outputs": [],
   "source": [
    "div=int(data.shape[0]/4)\n",
    "#dividing data into train and test in 3:1 ratio\n",
    "train=data.loc[:3*div+1,:]\n",
    "test=data.loc[3*div+1:]"
   ]
  },
  {
   "cell_type": "code",
   "execution_count": 101,
   "id": "d5a3392b",
   "metadata": {},
   "outputs": [
    {
     "data": {
      "text/plain": [
       "(589451, 15)"
      ]
     },
     "execution_count": 101,
     "metadata": {},
     "output_type": "execute_result"
    }
   ],
   "source": [
    "train.shape"
   ]
  },
  {
   "cell_type": "code",
   "execution_count": 102,
   "id": "a35ca4cf",
   "metadata": {},
   "outputs": [
    {
     "data": {
      "text/plain": [
       "(139872, 15)"
      ]
     },
     "execution_count": 102,
     "metadata": {},
     "output_type": "execute_result"
    }
   ],
   "source": [
    "test.shape"
   ]
  },
  {
   "cell_type": "code",
   "execution_count": 103,
   "id": "9e1da2e7",
   "metadata": {},
   "outputs": [
    {
     "data": {
      "text/html": [
       "<div>\n",
       "<style scoped>\n",
       "    .dataframe tbody tr th:only-of-type {\n",
       "        vertical-align: middle;\n",
       "    }\n",
       "\n",
       "    .dataframe tbody tr th {\n",
       "        vertical-align: top;\n",
       "    }\n",
       "\n",
       "    .dataframe thead th {\n",
       "        text-align: right;\n",
       "    }\n",
       "</style>\n",
       "<table border=\"1\" class=\"dataframe\">\n",
       "  <thead>\n",
       "    <tr style=\"text-align: right;\">\n",
       "      <th></th>\n",
       "      <th>id</th>\n",
       "      <th>vendor_id</th>\n",
       "      <th>pickup_datetime</th>\n",
       "      <th>dropoff_datetime</th>\n",
       "      <th>passenger_count</th>\n",
       "      <th>pickup_longitude</th>\n",
       "      <th>pickup_latitude</th>\n",
       "      <th>dropoff_longitude</th>\n",
       "      <th>dropoff_latitude</th>\n",
       "      <th>store_and_fwd_flag</th>\n",
       "      <th>trip_duration</th>\n",
       "      <th>pickup_time</th>\n",
       "      <th>dropoff_time</th>\n",
       "      <th>pickup_hour</th>\n",
       "      <th>pickup_weekday</th>\n",
       "    </tr>\n",
       "  </thead>\n",
       "  <tbody>\n",
       "    <tr>\n",
       "      <th>469114</th>\n",
       "      <td>id2380741</td>\n",
       "      <td>2</td>\n",
       "      <td>2016-05-21 10:40:14</td>\n",
       "      <td>2016-05-21 10:51:11</td>\n",
       "      <td>1</td>\n",
       "      <td>-73.981796</td>\n",
       "      <td>40.762035</td>\n",
       "      <td>-73.972267</td>\n",
       "      <td>40.781265</td>\n",
       "      <td>N</td>\n",
       "      <td>657</td>\n",
       "      <td>2016-05-21 10:40:14</td>\n",
       "      <td>2016-05-21 10:51:11</td>\n",
       "      <td>peak hours</td>\n",
       "      <td>weekend</td>\n",
       "    </tr>\n",
       "    <tr>\n",
       "      <th>694852</th>\n",
       "      <td>id3946961</td>\n",
       "      <td>2</td>\n",
       "      <td>2016-01-08 18:49:27</td>\n",
       "      <td>2016-01-08 18:52:42</td>\n",
       "      <td>5</td>\n",
       "      <td>-73.980965</td>\n",
       "      <td>40.747677</td>\n",
       "      <td>-73.982704</td>\n",
       "      <td>40.741161</td>\n",
       "      <td>N</td>\n",
       "      <td>195</td>\n",
       "      <td>2016-01-08 18:49:27</td>\n",
       "      <td>2016-01-08 18:52:42</td>\n",
       "      <td>evening</td>\n",
       "      <td>weekday</td>\n",
       "    </tr>\n",
       "    <tr>\n",
       "      <th>696324</th>\n",
       "      <td>id0833913</td>\n",
       "      <td>1</td>\n",
       "      <td>2016-05-22 00:54:10</td>\n",
       "      <td>2016-05-22 01:08:10</td>\n",
       "      <td>1</td>\n",
       "      <td>-73.951065</td>\n",
       "      <td>40.782722</td>\n",
       "      <td>-73.867691</td>\n",
       "      <td>40.833664</td>\n",
       "      <td>N</td>\n",
       "      <td>840</td>\n",
       "      <td>2016-05-22 00:54:10</td>\n",
       "      <td>2016-05-22 01:08:10</td>\n",
       "      <td>late night</td>\n",
       "      <td>weekend</td>\n",
       "    </tr>\n",
       "    <tr>\n",
       "      <th>356496</th>\n",
       "      <td>id1336849</td>\n",
       "      <td>1</td>\n",
       "      <td>2016-06-11 10:32:12</td>\n",
       "      <td>2016-06-11 10:38:50</td>\n",
       "      <td>1</td>\n",
       "      <td>-73.987625</td>\n",
       "      <td>40.762791</td>\n",
       "      <td>-73.973518</td>\n",
       "      <td>40.762909</td>\n",
       "      <td>N</td>\n",
       "      <td>398</td>\n",
       "      <td>2016-06-11 10:32:12</td>\n",
       "      <td>2016-06-11 10:38:50</td>\n",
       "      <td>peak hours</td>\n",
       "      <td>weekend</td>\n",
       "    </tr>\n",
       "    <tr>\n",
       "      <th>645318</th>\n",
       "      <td>id1610858</td>\n",
       "      <td>1</td>\n",
       "      <td>2016-04-03 10:45:51</td>\n",
       "      <td>2016-04-03 10:57:13</td>\n",
       "      <td>3</td>\n",
       "      <td>-73.964333</td>\n",
       "      <td>40.792503</td>\n",
       "      <td>-73.988609</td>\n",
       "      <td>40.758369</td>\n",
       "      <td>N</td>\n",
       "      <td>682</td>\n",
       "      <td>2016-04-03 10:45:51</td>\n",
       "      <td>2016-04-03 10:57:13</td>\n",
       "      <td>peak hours</td>\n",
       "      <td>weekend</td>\n",
       "    </tr>\n",
       "  </tbody>\n",
       "</table>\n",
       "</div>"
      ],
      "text/plain": [
       "               id  vendor_id      pickup_datetime     dropoff_datetime  \\\n",
       "469114  id2380741          2  2016-05-21 10:40:14  2016-05-21 10:51:11   \n",
       "694852  id3946961          2  2016-01-08 18:49:27  2016-01-08 18:52:42   \n",
       "696324  id0833913          1  2016-05-22 00:54:10  2016-05-22 01:08:10   \n",
       "356496  id1336849          1  2016-06-11 10:32:12  2016-06-11 10:38:50   \n",
       "645318  id1610858          1  2016-04-03 10:45:51  2016-04-03 10:57:13   \n",
       "\n",
       "        passenger_count  pickup_longitude  pickup_latitude  dropoff_longitude  \\\n",
       "469114                1        -73.981796        40.762035         -73.972267   \n",
       "694852                5        -73.980965        40.747677         -73.982704   \n",
       "696324                1        -73.951065        40.782722         -73.867691   \n",
       "356496                1        -73.987625        40.762791         -73.973518   \n",
       "645318                3        -73.964333        40.792503         -73.988609   \n",
       "\n",
       "        dropoff_latitude store_and_fwd_flag  trip_duration  \\\n",
       "469114         40.781265                  N            657   \n",
       "694852         40.741161                  N            195   \n",
       "696324         40.833664                  N            840   \n",
       "356496         40.762909                  N            398   \n",
       "645318         40.758369                  N            682   \n",
       "\n",
       "               pickup_time        dropoff_time pickup_hour pickup_weekday  \n",
       "469114 2016-05-21 10:40:14 2016-05-21 10:51:11  peak hours        weekend  \n",
       "694852 2016-01-08 18:49:27 2016-01-08 18:52:42     evening        weekday  \n",
       "696324 2016-05-22 00:54:10 2016-05-22 01:08:10  late night        weekend  \n",
       "356496 2016-06-11 10:32:12 2016-06-11 10:38:50  peak hours        weekend  \n",
       "645318 2016-04-03 10:45:51 2016-04-03 10:57:13  peak hours        weekend  "
      ]
     },
     "execution_count": 103,
     "metadata": {},
     "output_type": "execute_result"
    }
   ],
   "source": [
    "train.head()"
   ]
  },
  {
   "cell_type": "code",
   "execution_count": 104,
   "id": "90e32dda",
   "metadata": {
    "scrolled": true
   },
   "outputs": [
    {
     "data": {
      "text/html": [
       "<div>\n",
       "<style scoped>\n",
       "    .dataframe tbody tr th:only-of-type {\n",
       "        vertical-align: middle;\n",
       "    }\n",
       "\n",
       "    .dataframe tbody tr th {\n",
       "        vertical-align: top;\n",
       "    }\n",
       "\n",
       "    .dataframe thead th {\n",
       "        text-align: right;\n",
       "    }\n",
       "</style>\n",
       "<table border=\"1\" class=\"dataframe\">\n",
       "  <thead>\n",
       "    <tr style=\"text-align: right;\">\n",
       "      <th></th>\n",
       "      <th>id</th>\n",
       "      <th>vendor_id</th>\n",
       "      <th>pickup_datetime</th>\n",
       "      <th>dropoff_datetime</th>\n",
       "      <th>passenger_count</th>\n",
       "      <th>pickup_longitude</th>\n",
       "      <th>pickup_latitude</th>\n",
       "      <th>dropoff_longitude</th>\n",
       "      <th>dropoff_latitude</th>\n",
       "      <th>store_and_fwd_flag</th>\n",
       "      <th>trip_duration</th>\n",
       "      <th>pickup_time</th>\n",
       "      <th>dropoff_time</th>\n",
       "      <th>pickup_hour</th>\n",
       "      <th>pickup_weekday</th>\n",
       "    </tr>\n",
       "  </thead>\n",
       "  <tbody>\n",
       "    <tr>\n",
       "      <th>546991</th>\n",
       "      <td>id2240736</td>\n",
       "      <td>1</td>\n",
       "      <td>2016-05-25 07:59:16</td>\n",
       "      <td>2016-05-25 08:05:02</td>\n",
       "      <td>1</td>\n",
       "      <td>-73.991364</td>\n",
       "      <td>40.732590</td>\n",
       "      <td>-74.000526</td>\n",
       "      <td>40.742283</td>\n",
       "      <td>N</td>\n",
       "      <td>346</td>\n",
       "      <td>2016-05-25 07:59:16</td>\n",
       "      <td>2016-05-25 08:05:02</td>\n",
       "      <td>morning</td>\n",
       "      <td>weekday</td>\n",
       "    </tr>\n",
       "    <tr>\n",
       "      <th>43126</th>\n",
       "      <td>id1423404</td>\n",
       "      <td>1</td>\n",
       "      <td>2016-01-18 12:17:13</td>\n",
       "      <td>2016-01-18 12:21:13</td>\n",
       "      <td>2</td>\n",
       "      <td>-73.966225</td>\n",
       "      <td>40.768059</td>\n",
       "      <td>-73.967606</td>\n",
       "      <td>40.763073</td>\n",
       "      <td>N</td>\n",
       "      <td>240</td>\n",
       "      <td>2016-01-18 12:17:13</td>\n",
       "      <td>2016-01-18 12:21:13</td>\n",
       "      <td>peak hours</td>\n",
       "      <td>weekday</td>\n",
       "    </tr>\n",
       "    <tr>\n",
       "      <th>641450</th>\n",
       "      <td>id1317268</td>\n",
       "      <td>2</td>\n",
       "      <td>2016-03-02 18:39:01</td>\n",
       "      <td>2016-03-02 18:50:12</td>\n",
       "      <td>1</td>\n",
       "      <td>-73.994926</td>\n",
       "      <td>40.766018</td>\n",
       "      <td>-74.004219</td>\n",
       "      <td>40.742523</td>\n",
       "      <td>N</td>\n",
       "      <td>671</td>\n",
       "      <td>2016-03-02 18:39:01</td>\n",
       "      <td>2016-03-02 18:50:12</td>\n",
       "      <td>evening</td>\n",
       "      <td>weekday</td>\n",
       "    </tr>\n",
       "    <tr>\n",
       "      <th>611380</th>\n",
       "      <td>id3335546</td>\n",
       "      <td>1</td>\n",
       "      <td>2016-04-06 19:17:20</td>\n",
       "      <td>2016-04-06 19:18:03</td>\n",
       "      <td>1</td>\n",
       "      <td>-73.974388</td>\n",
       "      <td>40.793781</td>\n",
       "      <td>-73.976006</td>\n",
       "      <td>40.792339</td>\n",
       "      <td>N</td>\n",
       "      <td>43</td>\n",
       "      <td>2016-04-06 19:17:20</td>\n",
       "      <td>2016-04-06 19:18:03</td>\n",
       "      <td>night</td>\n",
       "      <td>weekday</td>\n",
       "    </tr>\n",
       "    <tr>\n",
       "      <th>62690</th>\n",
       "      <td>id2174190</td>\n",
       "      <td>2</td>\n",
       "      <td>2016-06-21 18:35:31</td>\n",
       "      <td>2016-06-21 18:40:56</td>\n",
       "      <td>3</td>\n",
       "      <td>-73.963440</td>\n",
       "      <td>40.798557</td>\n",
       "      <td>-73.979736</td>\n",
       "      <td>40.777878</td>\n",
       "      <td>N</td>\n",
       "      <td>325</td>\n",
       "      <td>2016-06-21 18:35:31</td>\n",
       "      <td>2016-06-21 18:40:56</td>\n",
       "      <td>evening</td>\n",
       "      <td>weekday</td>\n",
       "    </tr>\n",
       "  </tbody>\n",
       "</table>\n",
       "</div>"
      ],
      "text/plain": [
       "               id  vendor_id      pickup_datetime     dropoff_datetime  \\\n",
       "546991  id2240736          1  2016-05-25 07:59:16  2016-05-25 08:05:02   \n",
       "43126   id1423404          1  2016-01-18 12:17:13  2016-01-18 12:21:13   \n",
       "641450  id1317268          2  2016-03-02 18:39:01  2016-03-02 18:50:12   \n",
       "611380  id3335546          1  2016-04-06 19:17:20  2016-04-06 19:18:03   \n",
       "62690   id2174190          2  2016-06-21 18:35:31  2016-06-21 18:40:56   \n",
       "\n",
       "        passenger_count  pickup_longitude  pickup_latitude  dropoff_longitude  \\\n",
       "546991                1        -73.991364        40.732590         -74.000526   \n",
       "43126                 2        -73.966225        40.768059         -73.967606   \n",
       "641450                1        -73.994926        40.766018         -74.004219   \n",
       "611380                1        -73.974388        40.793781         -73.976006   \n",
       "62690                 3        -73.963440        40.798557         -73.979736   \n",
       "\n",
       "        dropoff_latitude store_and_fwd_flag  trip_duration  \\\n",
       "546991         40.742283                  N            346   \n",
       "43126          40.763073                  N            240   \n",
       "641450         40.742523                  N            671   \n",
       "611380         40.792339                  N             43   \n",
       "62690          40.777878                  N            325   \n",
       "\n",
       "               pickup_time        dropoff_time pickup_hour pickup_weekday  \n",
       "546991 2016-05-25 07:59:16 2016-05-25 08:05:02     morning        weekday  \n",
       "43126  2016-01-18 12:17:13 2016-01-18 12:21:13  peak hours        weekday  \n",
       "641450 2016-03-02 18:39:01 2016-03-02 18:50:12     evening        weekday  \n",
       "611380 2016-04-06 19:17:20 2016-04-06 19:18:03       night        weekday  \n",
       "62690  2016-06-21 18:35:31 2016-06-21 18:40:56     evening        weekday  "
      ]
     },
     "execution_count": 104,
     "metadata": {},
     "output_type": "execute_result"
    }
   ],
   "source": [
    "test.head()"
   ]
  },
  {
   "cell_type": "markdown",
   "id": "ded02c95",
   "metadata": {},
   "source": [
    "### Simple mean of trip duration"
   ]
  },
  {
   "cell_type": "code",
   "execution_count": 105,
   "id": "f771a575",
   "metadata": {},
   "outputs": [
    {
     "name": "stderr",
     "output_type": "stream",
     "text": [
      "C:\\Users\\acer\\AppData\\Local\\Temp\\ipykernel_2744\\626072653.py:1: SettingWithCopyWarning: \n",
      "A value is trying to be set on a copy of a slice from a DataFrame.\n",
      "Try using .loc[row_indexer,col_indexer] = value instead\n",
      "\n",
      "See the caveats in the documentation: https://pandas.pydata.org/pandas-docs/stable/user_guide/indexing.html#returning-a-view-versus-a-copy\n",
      "  test[\"mean_trip_duration\"]=train[\"trip_duration\"].mean()\n"
     ]
    }
   ],
   "source": [
    "test[\"mean_trip_duration\"]=train[\"trip_duration\"].mean()"
   ]
  },
  {
   "cell_type": "code",
   "execution_count": 106,
   "id": "d0056328",
   "metadata": {},
   "outputs": [],
   "source": [
    "#calculating root-mean-squared error"
   ]
  },
  {
   "cell_type": "code",
   "execution_count": 107,
   "id": "8195181a",
   "metadata": {},
   "outputs": [
    {
     "data": {
      "text/plain": [
       "3205.464962628823"
      ]
     },
     "execution_count": 107,
     "metadata": {},
     "output_type": "execute_result"
    }
   ],
   "source": [
    "from sklearn.metrics import mean_squared_error as MSE\n",
    "rms_error=MSE(test[\"trip_duration\"],test[\"mean_trip_duration\"],squared=False)\n",
    "rms_error"
   ]
  },
  {
   "cell_type": "markdown",
   "id": "771e2997",
   "metadata": {},
   "source": [
    "### RMSE depending on passenger count"
   ]
  },
  {
   "cell_type": "code",
   "execution_count": 108,
   "id": "89ba5c11",
   "metadata": {},
   "outputs": [
    {
     "data": {
      "text/html": [
       "<div>\n",
       "<style scoped>\n",
       "    .dataframe tbody tr th:only-of-type {\n",
       "        vertical-align: middle;\n",
       "    }\n",
       "\n",
       "    .dataframe tbody tr th {\n",
       "        vertical-align: top;\n",
       "    }\n",
       "\n",
       "    .dataframe thead th {\n",
       "        text-align: right;\n",
       "    }\n",
       "</style>\n",
       "<table border=\"1\" class=\"dataframe\">\n",
       "  <thead>\n",
       "    <tr style=\"text-align: right;\">\n",
       "      <th></th>\n",
       "      <th>trip_duration</th>\n",
       "    </tr>\n",
       "    <tr>\n",
       "      <th>passenger_count</th>\n",
       "      <th></th>\n",
       "    </tr>\n",
       "  </thead>\n",
       "  <tbody>\n",
       "    <tr>\n",
       "      <th>0</th>\n",
       "      <td>334.733333</td>\n",
       "    </tr>\n",
       "    <tr>\n",
       "      <th>1</th>\n",
       "      <td>919.236280</td>\n",
       "    </tr>\n",
       "    <tr>\n",
       "      <th>2</th>\n",
       "      <td>1000.159939</td>\n",
       "    </tr>\n",
       "    <tr>\n",
       "      <th>3</th>\n",
       "      <td>1034.393923</td>\n",
       "    </tr>\n",
       "    <tr>\n",
       "      <th>4</th>\n",
       "      <td>1028.731304</td>\n",
       "    </tr>\n",
       "    <tr>\n",
       "      <th>5</th>\n",
       "      <td>1078.708147</td>\n",
       "    </tr>\n",
       "    <tr>\n",
       "      <th>6</th>\n",
       "      <td>1080.694100</td>\n",
       "    </tr>\n",
       "  </tbody>\n",
       "</table>\n",
       "</div>"
      ],
      "text/plain": [
       "                 trip_duration\n",
       "passenger_count               \n",
       "0                   334.733333\n",
       "1                   919.236280\n",
       "2                  1000.159939\n",
       "3                  1034.393923\n",
       "4                  1028.731304\n",
       "5                  1078.708147\n",
       "6                  1080.694100"
      ]
     },
     "execution_count": 108,
     "metadata": {},
     "output_type": "execute_result"
    }
   ],
   "source": [
    "pass_count=pd.pivot_table(train,values=\"trip_duration\",index=[\"passenger_count\"],aggfunc=np.mean)\n",
    "pass_count"
   ]
  },
  {
   "cell_type": "code",
   "execution_count": 109,
   "id": "f0dfb0cb",
   "metadata": {},
   "outputs": [
    {
     "name": "stderr",
     "output_type": "stream",
     "text": [
      "C:\\Users\\acer\\AppData\\Local\\Temp\\ipykernel_2744\\3882188638.py:1: SettingWithCopyWarning: \n",
      "A value is trying to be set on a copy of a slice from a DataFrame.\n",
      "Try using .loc[row_indexer,col_indexer] = value instead\n",
      "\n",
      "See the caveats in the documentation: https://pandas.pydata.org/pandas-docs/stable/user_guide/indexing.html#returning-a-view-versus-a-copy\n",
      "  test[\"pass_count_mean\"]=0\n",
      "C:\\Users\\acer\\AppData\\Local\\Temp\\ipykernel_2744\\3882188638.py:3: SettingWithCopyWarning: \n",
      "A value is trying to be set on a copy of a slice from a DataFrame\n",
      "\n",
      "See the caveats in the documentation: https://pandas.pydata.org/pandas-docs/stable/user_guide/indexing.html#returning-a-view-versus-a-copy\n",
      "  test[\"pass_count_mean\"][test[\"passenger_count\"]==i]=train[\"trip_duration\"][train[\"passenger_count\"]==i].mean()\n",
      "C:\\Users\\acer\\AppData\\Local\\Temp\\ipykernel_2744\\3882188638.py:3: SettingWithCopyWarning: \n",
      "A value is trying to be set on a copy of a slice from a DataFrame\n",
      "\n",
      "See the caveats in the documentation: https://pandas.pydata.org/pandas-docs/stable/user_guide/indexing.html#returning-a-view-versus-a-copy\n",
      "  test[\"pass_count_mean\"][test[\"passenger_count\"]==i]=train[\"trip_duration\"][train[\"passenger_count\"]==i].mean()\n",
      "C:\\Users\\acer\\AppData\\Local\\Temp\\ipykernel_2744\\3882188638.py:3: SettingWithCopyWarning: \n",
      "A value is trying to be set on a copy of a slice from a DataFrame\n",
      "\n",
      "See the caveats in the documentation: https://pandas.pydata.org/pandas-docs/stable/user_guide/indexing.html#returning-a-view-versus-a-copy\n",
      "  test[\"pass_count_mean\"][test[\"passenger_count\"]==i]=train[\"trip_duration\"][train[\"passenger_count\"]==i].mean()\n",
      "C:\\Users\\acer\\AppData\\Local\\Temp\\ipykernel_2744\\3882188638.py:3: SettingWithCopyWarning: \n",
      "A value is trying to be set on a copy of a slice from a DataFrame\n",
      "\n",
      "See the caveats in the documentation: https://pandas.pydata.org/pandas-docs/stable/user_guide/indexing.html#returning-a-view-versus-a-copy\n",
      "  test[\"pass_count_mean\"][test[\"passenger_count\"]==i]=train[\"trip_duration\"][train[\"passenger_count\"]==i].mean()\n",
      "C:\\Users\\acer\\AppData\\Local\\Temp\\ipykernel_2744\\3882188638.py:3: SettingWithCopyWarning: \n",
      "A value is trying to be set on a copy of a slice from a DataFrame\n",
      "\n",
      "See the caveats in the documentation: https://pandas.pydata.org/pandas-docs/stable/user_guide/indexing.html#returning-a-view-versus-a-copy\n",
      "  test[\"pass_count_mean\"][test[\"passenger_count\"]==i]=train[\"trip_duration\"][train[\"passenger_count\"]==i].mean()\n",
      "C:\\Users\\acer\\AppData\\Local\\Temp\\ipykernel_2744\\3882188638.py:3: SettingWithCopyWarning: \n",
      "A value is trying to be set on a copy of a slice from a DataFrame\n",
      "\n",
      "See the caveats in the documentation: https://pandas.pydata.org/pandas-docs/stable/user_guide/indexing.html#returning-a-view-versus-a-copy\n",
      "  test[\"pass_count_mean\"][test[\"passenger_count\"]==i]=train[\"trip_duration\"][train[\"passenger_count\"]==i].mean()\n",
      "C:\\Users\\acer\\AppData\\Local\\Temp\\ipykernel_2744\\3882188638.py:3: SettingWithCopyWarning: \n",
      "A value is trying to be set on a copy of a slice from a DataFrame\n",
      "\n",
      "See the caveats in the documentation: https://pandas.pydata.org/pandas-docs/stable/user_guide/indexing.html#returning-a-view-versus-a-copy\n",
      "  test[\"pass_count_mean\"][test[\"passenger_count\"]==i]=train[\"trip_duration\"][train[\"passenger_count\"]==i].mean()\n",
      "C:\\Users\\acer\\AppData\\Local\\Temp\\ipykernel_2744\\3882188638.py:3: SettingWithCopyWarning: \n",
      "A value is trying to be set on a copy of a slice from a DataFrame\n",
      "\n",
      "See the caveats in the documentation: https://pandas.pydata.org/pandas-docs/stable/user_guide/indexing.html#returning-a-view-versus-a-copy\n",
      "  test[\"pass_count_mean\"][test[\"passenger_count\"]==i]=train[\"trip_duration\"][train[\"passenger_count\"]==i].mean()\n"
     ]
    }
   ],
   "source": [
    "test[\"pass_count_mean\"]=0\n",
    "for i in train[\"passenger_count\"].unique():\n",
    "    test[\"pass_count_mean\"][test[\"passenger_count\"]==i]=train[\"trip_duration\"][train[\"passenger_count\"]==i].mean()"
   ]
  },
  {
   "cell_type": "code",
   "execution_count": 110,
   "id": "cf58c16c",
   "metadata": {},
   "outputs": [
    {
     "data": {
      "text/plain": [
       "3205.1370715718454"
      ]
     },
     "execution_count": 110,
     "metadata": {},
     "output_type": "execute_result"
    }
   ],
   "source": [
    "pass_count_error=MSE(test[\"trip_duration\"],test[\"pass_count_mean\"],squared=False)\n",
    "pass_count_error"
   ]
  },
  {
   "cell_type": "markdown",
   "id": "a421d2d7",
   "metadata": {},
   "source": [
    "### RMSE depending on vendor ID"
   ]
  },
  {
   "cell_type": "code",
   "execution_count": 111,
   "id": "8bad1c41",
   "metadata": {},
   "outputs": [
    {
     "data": {
      "text/html": [
       "<div>\n",
       "<style scoped>\n",
       "    .dataframe tbody tr th:only-of-type {\n",
       "        vertical-align: middle;\n",
       "    }\n",
       "\n",
       "    .dataframe tbody tr th {\n",
       "        vertical-align: top;\n",
       "    }\n",
       "\n",
       "    .dataframe thead th {\n",
       "        text-align: right;\n",
       "    }\n",
       "</style>\n",
       "<table border=\"1\" class=\"dataframe\">\n",
       "  <thead>\n",
       "    <tr style=\"text-align: right;\">\n",
       "      <th></th>\n",
       "      <th>trip_duration</th>\n",
       "    </tr>\n",
       "    <tr>\n",
       "      <th>vendor_id</th>\n",
       "      <th></th>\n",
       "    </tr>\n",
       "  </thead>\n",
       "  <tbody>\n",
       "    <tr>\n",
       "      <th>1</th>\n",
       "      <td>838.174354</td>\n",
       "    </tr>\n",
       "    <tr>\n",
       "      <th>2</th>\n",
       "      <td>1049.946134</td>\n",
       "    </tr>\n",
       "  </tbody>\n",
       "</table>\n",
       "</div>"
      ],
      "text/plain": [
       "           trip_duration\n",
       "vendor_id               \n",
       "1             838.174354\n",
       "2            1049.946134"
      ]
     },
     "execution_count": 111,
     "metadata": {},
     "output_type": "execute_result"
    }
   ],
   "source": [
    "ven_ID=pd.pivot_table(train,values=\"trip_duration\",index=[\"vendor_id\"],aggfunc=np.mean)\n",
    "ven_ID"
   ]
  },
  {
   "cell_type": "code",
   "execution_count": 112,
   "id": "cb8c0b3c",
   "metadata": {},
   "outputs": [
    {
     "name": "stderr",
     "output_type": "stream",
     "text": [
      "C:\\Users\\acer\\AppData\\Local\\Temp\\ipykernel_2744\\2017410572.py:1: SettingWithCopyWarning: \n",
      "A value is trying to be set on a copy of a slice from a DataFrame.\n",
      "Try using .loc[row_indexer,col_indexer] = value instead\n",
      "\n",
      "See the caveats in the documentation: https://pandas.pydata.org/pandas-docs/stable/user_guide/indexing.html#returning-a-view-versus-a-copy\n",
      "  test[\"ven_ID_mean\"]=0\n",
      "C:\\Users\\acer\\AppData\\Local\\Temp\\ipykernel_2744\\2017410572.py:3: SettingWithCopyWarning: \n",
      "A value is trying to be set on a copy of a slice from a DataFrame\n",
      "\n",
      "See the caveats in the documentation: https://pandas.pydata.org/pandas-docs/stable/user_guide/indexing.html#returning-a-view-versus-a-copy\n",
      "  test[\"ven_ID_mean\"][test[\"vendor_id\"]==i]=train[\"trip_duration\"][train[\"vendor_id\"]==i].mean()\n",
      "C:\\Users\\acer\\AppData\\Local\\Temp\\ipykernel_2744\\2017410572.py:3: SettingWithCopyWarning: \n",
      "A value is trying to be set on a copy of a slice from a DataFrame\n",
      "\n",
      "See the caveats in the documentation: https://pandas.pydata.org/pandas-docs/stable/user_guide/indexing.html#returning-a-view-versus-a-copy\n",
      "  test[\"ven_ID_mean\"][test[\"vendor_id\"]==i]=train[\"trip_duration\"][train[\"vendor_id\"]==i].mean()\n",
      "C:\\Users\\acer\\AppData\\Local\\Temp\\ipykernel_2744\\2017410572.py:3: SettingWithCopyWarning: \n",
      "A value is trying to be set on a copy of a slice from a DataFrame\n",
      "\n",
      "See the caveats in the documentation: https://pandas.pydata.org/pandas-docs/stable/user_guide/indexing.html#returning-a-view-versus-a-copy\n",
      "  test[\"ven_ID_mean\"][test[\"vendor_id\"]==i]=train[\"trip_duration\"][train[\"vendor_id\"]==i].mean()\n"
     ]
    }
   ],
   "source": [
    "test[\"ven_ID_mean\"]=0\n",
    "for i in train[\"vendor_id\"].unique():\n",
    "    test[\"ven_ID_mean\"][test[\"vendor_id\"]==i]=train[\"trip_duration\"][train[\"vendor_id\"]==i].mean()"
   ]
  },
  {
   "cell_type": "code",
   "execution_count": 113,
   "id": "a36e9827",
   "metadata": {},
   "outputs": [
    {
     "data": {
      "text/plain": [
       "3203.4437862808136"
      ]
     },
     "execution_count": 113,
     "metadata": {},
     "output_type": "execute_result"
    }
   ],
   "source": [
    "ven_ID_error=MSE(test[\"trip_duration\"],test[\"ven_ID_mean\"],squared=False)\n",
    "ven_ID_error"
   ]
  },
  {
   "cell_type": "markdown",
   "id": "f100864e",
   "metadata": {},
   "source": [
    "### RMSE depending on store and fwd flag"
   ]
  },
  {
   "cell_type": "code",
   "execution_count": 114,
   "id": "fa0f34d4",
   "metadata": {},
   "outputs": [
    {
     "data": {
      "text/html": [
       "<div>\n",
       "<style scoped>\n",
       "    .dataframe tbody tr th:only-of-type {\n",
       "        vertical-align: middle;\n",
       "    }\n",
       "\n",
       "    .dataframe tbody tr th {\n",
       "        vertical-align: top;\n",
       "    }\n",
       "\n",
       "    .dataframe thead th {\n",
       "        text-align: right;\n",
       "    }\n",
       "</style>\n",
       "<table border=\"1\" class=\"dataframe\">\n",
       "  <thead>\n",
       "    <tr style=\"text-align: right;\">\n",
       "      <th></th>\n",
       "      <th>trip_duration</th>\n",
       "    </tr>\n",
       "    <tr>\n",
       "      <th>store_and_fwd_flag</th>\n",
       "      <th></th>\n",
       "    </tr>\n",
       "  </thead>\n",
       "  <tbody>\n",
       "    <tr>\n",
       "      <th>N</th>\n",
       "      <td>950.792228</td>\n",
       "    </tr>\n",
       "    <tr>\n",
       "      <th>Y</th>\n",
       "      <td>1094.609831</td>\n",
       "    </tr>\n",
       "  </tbody>\n",
       "</table>\n",
       "</div>"
      ],
      "text/plain": [
       "                    trip_duration\n",
       "store_and_fwd_flag               \n",
       "N                      950.792228\n",
       "Y                     1094.609831"
      ]
     },
     "execution_count": 114,
     "metadata": {},
     "output_type": "execute_result"
    }
   ],
   "source": [
    "flag_type=pd.pivot_table(train,values=\"trip_duration\",index=[\"store_and_fwd_flag\"],aggfunc=np.mean)\n",
    "flag_type"
   ]
  },
  {
   "cell_type": "code",
   "execution_count": 115,
   "id": "e7133bfd",
   "metadata": {},
   "outputs": [
    {
     "name": "stderr",
     "output_type": "stream",
     "text": [
      "C:\\Users\\acer\\AppData\\Local\\Temp\\ipykernel_2744\\1145867833.py:1: SettingWithCopyWarning: \n",
      "A value is trying to be set on a copy of a slice from a DataFrame.\n",
      "Try using .loc[row_indexer,col_indexer] = value instead\n",
      "\n",
      "See the caveats in the documentation: https://pandas.pydata.org/pandas-docs/stable/user_guide/indexing.html#returning-a-view-versus-a-copy\n",
      "  test[\"flag_type_mean\"]=0\n",
      "C:\\Users\\acer\\AppData\\Local\\Temp\\ipykernel_2744\\1145867833.py:3: SettingWithCopyWarning: \n",
      "A value is trying to be set on a copy of a slice from a DataFrame\n",
      "\n",
      "See the caveats in the documentation: https://pandas.pydata.org/pandas-docs/stable/user_guide/indexing.html#returning-a-view-versus-a-copy\n",
      "  test[\"flag_type_mean\"][test[\"store_and_fwd_flag\"]==i]=train[\"trip_duration\"][train[\"store_and_fwd_flag\"]==i].mean()\n",
      "C:\\Users\\acer\\AppData\\Local\\Temp\\ipykernel_2744\\1145867833.py:3: SettingWithCopyWarning: \n",
      "A value is trying to be set on a copy of a slice from a DataFrame\n",
      "\n",
      "See the caveats in the documentation: https://pandas.pydata.org/pandas-docs/stable/user_guide/indexing.html#returning-a-view-versus-a-copy\n",
      "  test[\"flag_type_mean\"][test[\"store_and_fwd_flag\"]==i]=train[\"trip_duration\"][train[\"store_and_fwd_flag\"]==i].mean()\n",
      "C:\\Users\\acer\\AppData\\Local\\Temp\\ipykernel_2744\\1145867833.py:3: SettingWithCopyWarning: \n",
      "A value is trying to be set on a copy of a slice from a DataFrame\n",
      "\n",
      "See the caveats in the documentation: https://pandas.pydata.org/pandas-docs/stable/user_guide/indexing.html#returning-a-view-versus-a-copy\n",
      "  test[\"flag_type_mean\"][test[\"store_and_fwd_flag\"]==i]=train[\"trip_duration\"][train[\"store_and_fwd_flag\"]==i].mean()\n"
     ]
    }
   ],
   "source": [
    "test[\"flag_type_mean\"]=0\n",
    "for i in train[\"store_and_fwd_flag\"].unique():\n",
    "    test[\"flag_type_mean\"][test[\"store_and_fwd_flag\"]==i]=train[\"trip_duration\"][train[\"store_and_fwd_flag\"]==i].mean()"
   ]
  },
  {
   "cell_type": "code",
   "execution_count": 116,
   "id": "378f1c28",
   "metadata": {},
   "outputs": [
    {
     "data": {
      "text/plain": [
       "3205.4474618943213"
      ]
     },
     "execution_count": 116,
     "metadata": {},
     "output_type": "execute_result"
    }
   ],
   "source": [
    "flag_type_error=MSE(test[\"trip_duration\"],test[\"flag_type_mean\"],squared=False)\n",
    "flag_type_error"
   ]
  },
  {
   "cell_type": "markdown",
   "id": "bde0646a",
   "metadata": {},
   "source": [
    "### Simple mean depending on pickup time and pickup weekday"
   ]
  },
  {
   "cell_type": "markdown",
   "id": "4a68203f",
   "metadata": {},
   "source": [
    "### pickuptime:"
   ]
  },
  {
   "cell_type": "code",
   "execution_count": 117,
   "id": "860fa0cc",
   "metadata": {},
   "outputs": [
    {
     "data": {
      "text/html": [
       "<div>\n",
       "<style scoped>\n",
       "    .dataframe tbody tr th:only-of-type {\n",
       "        vertical-align: middle;\n",
       "    }\n",
       "\n",
       "    .dataframe tbody tr th {\n",
       "        vertical-align: top;\n",
       "    }\n",
       "\n",
       "    .dataframe thead th {\n",
       "        text-align: right;\n",
       "    }\n",
       "</style>\n",
       "<table border=\"1\" class=\"dataframe\">\n",
       "  <thead>\n",
       "    <tr style=\"text-align: right;\">\n",
       "      <th></th>\n",
       "      <th>trip_duration</th>\n",
       "    </tr>\n",
       "    <tr>\n",
       "      <th>pickup_hour</th>\n",
       "      <th></th>\n",
       "    </tr>\n",
       "  </thead>\n",
       "  <tbody>\n",
       "    <tr>\n",
       "      <th>early morning</th>\n",
       "      <td>791.338436</td>\n",
       "    </tr>\n",
       "    <tr>\n",
       "      <th>evening</th>\n",
       "      <td>1032.112641</td>\n",
       "    </tr>\n",
       "    <tr>\n",
       "      <th>late night</th>\n",
       "      <td>926.383999</td>\n",
       "    </tr>\n",
       "    <tr>\n",
       "      <th>morning</th>\n",
       "      <td>898.623545</td>\n",
       "    </tr>\n",
       "    <tr>\n",
       "      <th>night</th>\n",
       "      <td>878.037473</td>\n",
       "    </tr>\n",
       "    <tr>\n",
       "      <th>peak hours</th>\n",
       "      <td>1018.396096</td>\n",
       "    </tr>\n",
       "  </tbody>\n",
       "</table>\n",
       "</div>"
      ],
      "text/plain": [
       "               trip_duration\n",
       "pickup_hour                 \n",
       "early morning     791.338436\n",
       "evening          1032.112641\n",
       "late night        926.383999\n",
       "morning           898.623545\n",
       "night             878.037473\n",
       "peak hours       1018.396096"
      ]
     },
     "execution_count": 117,
     "metadata": {},
     "output_type": "execute_result"
    }
   ],
   "source": [
    "pickup_time_type=pd.pivot_table(train,values=\"trip_duration\",index=[\"pickup_hour\"],aggfunc=np.mean)\n",
    "pickup_time_type"
   ]
  },
  {
   "cell_type": "code",
   "execution_count": 118,
   "id": "8a56e0fb",
   "metadata": {},
   "outputs": [
    {
     "name": "stderr",
     "output_type": "stream",
     "text": [
      "C:\\Users\\acer\\AppData\\Local\\Temp\\ipykernel_2744\\3961660041.py:1: SettingWithCopyWarning: \n",
      "A value is trying to be set on a copy of a slice from a DataFrame.\n",
      "Try using .loc[row_indexer,col_indexer] = value instead\n",
      "\n",
      "See the caveats in the documentation: https://pandas.pydata.org/pandas-docs/stable/user_guide/indexing.html#returning-a-view-versus-a-copy\n",
      "  test[\"pickup_time_type_mean\"]=0\n",
      "C:\\Users\\acer\\AppData\\Local\\Temp\\ipykernel_2744\\3961660041.py:3: SettingWithCopyWarning: \n",
      "A value is trying to be set on a copy of a slice from a DataFrame\n",
      "\n",
      "See the caveats in the documentation: https://pandas.pydata.org/pandas-docs/stable/user_guide/indexing.html#returning-a-view-versus-a-copy\n",
      "  test[\"pickup_time_type_mean\"][test[\"pickup_hour\"]==i]=train[\"trip_duration\"][train[\"pickup_hour\"]==i].mean()\n",
      "C:\\Users\\acer\\AppData\\Local\\Temp\\ipykernel_2744\\3961660041.py:3: SettingWithCopyWarning: \n",
      "A value is trying to be set on a copy of a slice from a DataFrame\n",
      "\n",
      "See the caveats in the documentation: https://pandas.pydata.org/pandas-docs/stable/user_guide/indexing.html#returning-a-view-versus-a-copy\n",
      "  test[\"pickup_time_type_mean\"][test[\"pickup_hour\"]==i]=train[\"trip_duration\"][train[\"pickup_hour\"]==i].mean()\n",
      "C:\\Users\\acer\\AppData\\Local\\Temp\\ipykernel_2744\\3961660041.py:3: SettingWithCopyWarning: \n",
      "A value is trying to be set on a copy of a slice from a DataFrame\n",
      "\n",
      "See the caveats in the documentation: https://pandas.pydata.org/pandas-docs/stable/user_guide/indexing.html#returning-a-view-versus-a-copy\n",
      "  test[\"pickup_time_type_mean\"][test[\"pickup_hour\"]==i]=train[\"trip_duration\"][train[\"pickup_hour\"]==i].mean()\n",
      "C:\\Users\\acer\\AppData\\Local\\Temp\\ipykernel_2744\\3961660041.py:3: SettingWithCopyWarning: \n",
      "A value is trying to be set on a copy of a slice from a DataFrame\n",
      "\n",
      "See the caveats in the documentation: https://pandas.pydata.org/pandas-docs/stable/user_guide/indexing.html#returning-a-view-versus-a-copy\n",
      "  test[\"pickup_time_type_mean\"][test[\"pickup_hour\"]==i]=train[\"trip_duration\"][train[\"pickup_hour\"]==i].mean()\n",
      "C:\\Users\\acer\\AppData\\Local\\Temp\\ipykernel_2744\\3961660041.py:3: SettingWithCopyWarning: \n",
      "A value is trying to be set on a copy of a slice from a DataFrame\n",
      "\n",
      "See the caveats in the documentation: https://pandas.pydata.org/pandas-docs/stable/user_guide/indexing.html#returning-a-view-versus-a-copy\n",
      "  test[\"pickup_time_type_mean\"][test[\"pickup_hour\"]==i]=train[\"trip_duration\"][train[\"pickup_hour\"]==i].mean()\n",
      "C:\\Users\\acer\\AppData\\Local\\Temp\\ipykernel_2744\\3961660041.py:3: SettingWithCopyWarning: \n",
      "A value is trying to be set on a copy of a slice from a DataFrame\n",
      "\n",
      "See the caveats in the documentation: https://pandas.pydata.org/pandas-docs/stable/user_guide/indexing.html#returning-a-view-versus-a-copy\n",
      "  test[\"pickup_time_type_mean\"][test[\"pickup_hour\"]==i]=train[\"trip_duration\"][train[\"pickup_hour\"]==i].mean()\n",
      "C:\\Users\\acer\\AppData\\Local\\Temp\\ipykernel_2744\\3961660041.py:3: SettingWithCopyWarning: \n",
      "A value is trying to be set on a copy of a slice from a DataFrame\n",
      "\n",
      "See the caveats in the documentation: https://pandas.pydata.org/pandas-docs/stable/user_guide/indexing.html#returning-a-view-versus-a-copy\n",
      "  test[\"pickup_time_type_mean\"][test[\"pickup_hour\"]==i]=train[\"trip_duration\"][train[\"pickup_hour\"]==i].mean()\n"
     ]
    }
   ],
   "source": [
    "test[\"pickup_time_type_mean\"]=0\n",
    "for i in train[\"pickup_hour\"].unique():\n",
    "    test[\"pickup_time_type_mean\"][test[\"pickup_hour\"]==i]=train[\"trip_duration\"][train[\"pickup_hour\"]==i].mean()"
   ]
  },
  {
   "cell_type": "code",
   "execution_count": 119,
   "id": "0e0bc6cb",
   "metadata": {},
   "outputs": [
    {
     "data": {
      "text/plain": [
       "3205.0919690020723"
      ]
     },
     "execution_count": 119,
     "metadata": {},
     "output_type": "execute_result"
    }
   ],
   "source": [
    "pickup_hour_type_error=MSE(test[\"trip_duration\"],test[\"pickup_time_type_mean\"],squared=False)\n",
    "pickup_hour_type_error"
   ]
  },
  {
   "cell_type": "markdown",
   "id": "036f9cd9",
   "metadata": {},
   "source": [
    "### pickup weekday"
   ]
  },
  {
   "cell_type": "code",
   "execution_count": 120,
   "id": "c6cd4b55",
   "metadata": {},
   "outputs": [
    {
     "data": {
      "text/html": [
       "<div>\n",
       "<style scoped>\n",
       "    .dataframe tbody tr th:only-of-type {\n",
       "        vertical-align: middle;\n",
       "    }\n",
       "\n",
       "    .dataframe tbody tr th {\n",
       "        vertical-align: top;\n",
       "    }\n",
       "\n",
       "    .dataframe thead th {\n",
       "        text-align: right;\n",
       "    }\n",
       "</style>\n",
       "<table border=\"1\" class=\"dataframe\">\n",
       "  <thead>\n",
       "    <tr style=\"text-align: right;\">\n",
       "      <th></th>\n",
       "      <th>trip_duration</th>\n",
       "    </tr>\n",
       "    <tr>\n",
       "      <th>pickup_weekday</th>\n",
       "      <th></th>\n",
       "    </tr>\n",
       "  </thead>\n",
       "  <tbody>\n",
       "    <tr>\n",
       "      <th>weekday</th>\n",
       "      <td>970.547577</td>\n",
       "    </tr>\n",
       "    <tr>\n",
       "      <th>weekend</th>\n",
       "      <td>904.115785</td>\n",
       "    </tr>\n",
       "  </tbody>\n",
       "</table>\n",
       "</div>"
      ],
      "text/plain": [
       "                trip_duration\n",
       "pickup_weekday               \n",
       "weekday            970.547577\n",
       "weekend            904.115785"
      ]
     },
     "execution_count": 120,
     "metadata": {},
     "output_type": "execute_result"
    }
   ],
   "source": [
    "pickup_weekday_type=pd.pivot_table(train,values=\"trip_duration\",index=[\"pickup_weekday\"],aggfunc=np.mean)\n",
    "pickup_weekday_type"
   ]
  },
  {
   "cell_type": "code",
   "execution_count": 121,
   "id": "d157bba0",
   "metadata": {},
   "outputs": [
    {
     "name": "stderr",
     "output_type": "stream",
     "text": [
      "C:\\Users\\acer\\AppData\\Local\\Temp\\ipykernel_2744\\4293583534.py:1: SettingWithCopyWarning: \n",
      "A value is trying to be set on a copy of a slice from a DataFrame.\n",
      "Try using .loc[row_indexer,col_indexer] = value instead\n",
      "\n",
      "See the caveats in the documentation: https://pandas.pydata.org/pandas-docs/stable/user_guide/indexing.html#returning-a-view-versus-a-copy\n",
      "  test[\"pickup_weekday_type_mean\"]=0\n",
      "C:\\Users\\acer\\AppData\\Local\\Temp\\ipykernel_2744\\4293583534.py:3: SettingWithCopyWarning: \n",
      "A value is trying to be set on a copy of a slice from a DataFrame\n",
      "\n",
      "See the caveats in the documentation: https://pandas.pydata.org/pandas-docs/stable/user_guide/indexing.html#returning-a-view-versus-a-copy\n",
      "  test[\"pickup_weekday_type_mean\"][test[\"pickup_weekday\"]==i]=train[\"trip_duration\"][train[\"pickup_weekday\"]==i].mean()\n",
      "C:\\Users\\acer\\AppData\\Local\\Temp\\ipykernel_2744\\4293583534.py:3: SettingWithCopyWarning: \n",
      "A value is trying to be set on a copy of a slice from a DataFrame\n",
      "\n",
      "See the caveats in the documentation: https://pandas.pydata.org/pandas-docs/stable/user_guide/indexing.html#returning-a-view-versus-a-copy\n",
      "  test[\"pickup_weekday_type_mean\"][test[\"pickup_weekday\"]==i]=train[\"trip_duration\"][train[\"pickup_weekday\"]==i].mean()\n",
      "C:\\Users\\acer\\AppData\\Local\\Temp\\ipykernel_2744\\4293583534.py:3: SettingWithCopyWarning: \n",
      "A value is trying to be set on a copy of a slice from a DataFrame\n",
      "\n",
      "See the caveats in the documentation: https://pandas.pydata.org/pandas-docs/stable/user_guide/indexing.html#returning-a-view-versus-a-copy\n",
      "  test[\"pickup_weekday_type_mean\"][test[\"pickup_weekday\"]==i]=train[\"trip_duration\"][train[\"pickup_weekday\"]==i].mean()\n"
     ]
    }
   ],
   "source": [
    "test[\"pickup_weekday_type_mean\"]=0\n",
    "for i in train[\"pickup_weekday\"].unique():\n",
    "    test[\"pickup_weekday_type_mean\"][test[\"pickup_weekday\"]==i]=train[\"trip_duration\"][train[\"pickup_weekday\"]==i].mean()"
   ]
  },
  {
   "cell_type": "code",
   "execution_count": 122,
   "id": "2adb635a",
   "metadata": {},
   "outputs": [
    {
     "data": {
      "text/plain": [
       "3205.328997223053"
      ]
     },
     "execution_count": 122,
     "metadata": {},
     "output_type": "execute_result"
    }
   ],
   "source": [
    "pickup_weekday_type_error=MSE(test[\"trip_duration\"],test[\"pickup_weekday_type_mean\"],squared=False)\n",
    "pickup_weekday_type_error"
   ]
  },
  {
   "cell_type": "code",
   "execution_count": null,
   "id": "7a3e6045",
   "metadata": {},
   "outputs": [],
   "source": []
  }
 ],
 "metadata": {
  "kernelspec": {
   "display_name": "Python 3 (ipykernel)",
   "language": "python",
   "name": "python3"
  },
  "language_info": {
   "codemirror_mode": {
    "name": "ipython",
    "version": 3
   },
   "file_extension": ".py",
   "mimetype": "text/x-python",
   "name": "python",
   "nbconvert_exporter": "python",
   "pygments_lexer": "ipython3",
   "version": "3.9.13"
  }
 },
 "nbformat": 4,
 "nbformat_minor": 5
}
